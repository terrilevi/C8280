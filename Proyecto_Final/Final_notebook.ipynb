{
 "cells": [
  {
   "cell_type": "markdown",
   "id": "3095e35d-f5f7-4098-811e-00b8613612a3",
   "metadata": {
    "tags": []
   },
   "source": [
    "# Wisconsin Diagnostic Breast Cancer (WDBC)\n",
    "\n",
    "Trabajar con : from sklearn.datasets import load_breast_cancer.\n",
    "\n",
    "Utilizar los siguientes modelos: Bagging, Random Forests y Extra Trees. \n",
    "\n",
    "Anotar: Importancia de características con Random Forests"
   ]
  },
  {
   "cell_type": "markdown",
   "id": "6e0f0f53-b759-445e-9130-82b4f419a39c",
   "metadata": {
    "tags": []
   },
   "source": [
    "## Introduccion \n",
    "-\n",
    "Presentación del problema general sobre el que versará el trabajo y cómo se integra dentro del campo del aprendizaje automático\n",
    "-\n",
    "Objetivo del estudio"
   ]
  },
  {
   "cell_type": "markdown",
   "id": "c275de63-ec97-4465-b983-20d3d37de617",
   "metadata": {},
   "source": []
  },
  {
   "cell_type": "markdown",
   "id": "0e7693e0-61fa-454e-b25c-08b9d034c7c7",
   "metadata": {
    "tags": []
   },
   "source": [
    "## Diseño del experimento\n",
    "-\n",
    "Descripción del conjunto de datos\n",
    "-\n",
    "Número y tipo de características (binarias, discretas, continuas, etc.)\n",
    "-\n",
    "Número de muestras en los conjuntos de entrenamiento y prueba. Encaso aplique, número de muestras por clase."
   ]
  },
  {
   "cell_type": "markdown",
   "id": "28e83909-3989-42ba-98ad-039695c58d90",
   "metadata": {
    "tags": []
   },
   "source": [
    "### Pre procesamiento\n",
    "### EDA\n",
    "### Modelo"
   ]
  },
  {
   "cell_type": "markdown",
   "id": "1f4b59ad-0c30-4a0e-a627-631c9994d93e",
   "metadata": {},
   "source": [
    " Metodología\n",
    "        - De ser el caso, estrategia para el manejo de datos faltantes.\n",
    "        - Selección y extracción de características.\n",
    "        - Selección y justificación de la medida de calidad.\n",
    "        - Algoritmos que serán empleados y estrategia para su ajuste.\n",
    "        - Estrategia de validación a emplear para el ajuste de hiperparámetros si fuese necesario\n",
    "    "
   ]
  },
  {
   "cell_type": "markdown",
   "id": "986ad7c3-d79e-4bc3-bfa1-2253cd175b79",
   "metadata": {
    "tags": []
   },
   "source": [
    "## Experimentación y resultados"
   ]
  },
  {
   "cell_type": "markdown",
   "id": "40e5fbb4-8724-4238-b367-69edb542f6f4",
   "metadata": {},
   "source": [
    "Experimentación y resultados\n",
    "    - Evaluación del rendimiento de los modelos ensayados.\n",
    "    - Comparación de línea base y resultados propios."
   ]
  }
 ],
 "metadata": {
  "kernelspec": {
   "display_name": "conda_tensorflow2_p310",
   "language": "python",
   "name": "conda_tensorflow2_p310"
  },
  "language_info": {
   "codemirror_mode": {
    "name": "ipython",
    "version": 3
   },
   "file_extension": ".py",
   "mimetype": "text/x-python",
   "name": "python",
   "nbconvert_exporter": "python",
   "pygments_lexer": "ipython3",
   "version": "3.10.10"
  }
 },
 "nbformat": 4,
 "nbformat_minor": 5
}
