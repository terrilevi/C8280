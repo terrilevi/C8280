{
  "cells": [
    {
      "cell_type": "markdown",
      "metadata": {
        "id": "g5p1zhVdHRJH"
      },
      "source": [
        "## Numpy\n",
        "\n",
        "NumPy es la librería central para computación científica en Python. Proporciona un objeto de matriz multidimensional de alto rendimiento y herramientas para trabajar con estas matrices.\n",
        "\n",
        "#### Matrices\n",
        "\n",
        "Una matriz NumPy es una colección de valores de tipos de datos similares y está indexada por una tupla de números no negativos. El rango de la matriz es el número de dimensiones, y la forma de una matriz es una tupla de números que dan el tamaño de la matriz a lo largo de cada dimensión.\n"
      ]
    },
    {
      "cell_type": "code",
      "execution_count": 192,
      "metadata": {
        "id": "fEYOnETfqaMK",
        "colab": {
          "base_uri": "https://localhost:8080/"
        },
        "outputId": "381971b1-eec7-425b-dbe3-a6a8b4180ad7"
      },
      "outputs": [
        {
          "output_type": "stream",
          "name": "stdout",
          "text": [
            "\n",
            "La creacion de la matriz es 4.458445040214477 más rapido que la lista\n"
          ]
        }
      ],
      "source": [
        "# Ejemplo\n",
        "from __future__ import division\n",
        "import time\n",
        "import numpy as np\n",
        "\n",
        "\n",
        "tam_vec = 1000\n",
        "def lista_python():\n",
        "    t1 = time.time()\n",
        "    X = range(tam_vec)\n",
        "    Y = range(tam_vec)\n",
        "    Z = []\n",
        "    for i in range(len(X)):\n",
        "        Z.append(X[i] + Y[i])\n",
        "    return time.time() - t1\n",
        "\n",
        "def matriz_numpy():\n",
        "    t1 = time.time()\n",
        "    X = np.arange(tam_vec)\n",
        "    Y = np.arange(tam_vec)\n",
        "    Z = X + Y\n",
        "    return time.time() - t1\n",
        "\n",
        "# Completar\n",
        "t1 = lista_python()\n",
        "t2 = matriz_numpy()\n",
        "print(f'\\nLa creacion de la matriz es {t1/t2} más rapido que la lista')"
      ]
    },
    {
      "cell_type": "code",
      "execution_count": 3,
      "metadata": {
        "id": "OufDp2ReqaMM",
        "colab": {
          "base_uri": "https://localhost:8080/",
          "height": 35
        },
        "outputId": "21807ec5-a30b-4383-f5be-addacfd68787"
      },
      "outputs": [
        {
          "output_type": "execute_result",
          "data": {
            "text/plain": [
              "'1.22.4'"
            ],
            "application/vnd.google.colaboratory.intrinsic+json": {
              "type": "string"
            }
          },
          "metadata": {},
          "execution_count": 3
        }
      ],
      "source": [
        "import numpy\n",
        "numpy.__version__"
      ]
    },
    {
      "cell_type": "markdown",
      "metadata": {
        "id": "BhyocdoIqaMM"
      },
      "source": [
        "Podemos inicializar matrices NumPy a partir de listas de Python anidadas y acceder a los elementos mediante corchetes."
      ]
    },
    {
      "cell_type": "code",
      "execution_count": 4,
      "metadata": {
        "id": "oV13ZLdhqaMN",
        "colab": {
          "base_uri": "https://localhost:8080/"
        },
        "outputId": "196d00b1-d60c-449a-a21a-7abbfcfbaa3a"
      },
      "outputs": [
        {
          "output_type": "stream",
          "name": "stdout",
          "text": [
            "<class 'numpy.ndarray'>\n",
            "(3,)\n",
            "0\n",
            "1\n",
            "2\n",
            "[5 1 2]\n"
          ]
        }
      ],
      "source": [
        "import numpy as np\n",
        "\n",
        "# Creamos una matriz de rango 1\n",
        "a = np.array([0, 1, 2])\n",
        "print (type(a))\n",
        "\n",
        "# Imprimimos la dimension de la matriz\n",
        "print (a.shape)\n",
        "print (a[0])\n",
        "print (a[1])\n",
        "print (a[2])\n",
        "\n",
        "# Cambiamos un elemento de un array\n",
        "a[0] = 5\n",
        "print (a)"
      ]
    },
    {
      "cell_type": "code",
      "execution_count": 5,
      "metadata": {
        "id": "AM3wLIGFqaMN",
        "colab": {
          "base_uri": "https://localhost:8080/"
        },
        "outputId": "65b12c75-1a88-4f04-9bf0-d949d9712740"
      },
      "outputs": [
        {
          "output_type": "stream",
          "name": "stdout",
          "text": [
            "(2, 3)\n",
            "[[0 1 2]\n",
            " [3 4 5]]\n",
            "0 1 3\n"
          ]
        }
      ],
      "source": [
        "# Creamos una matriz de rango 2\n",
        "b = np.array([[0,1,2],[3,4,5]])\n",
        "print (b.shape)\n",
        "print (b)\n",
        "print (b[0, 0], b[0, 1], b[1, 0])"
      ]
    },
    {
      "cell_type": "code",
      "execution_count": 6,
      "metadata": {
        "id": "cq2gOFB4qaMO",
        "colab": {
          "base_uri": "https://localhost:8080/"
        },
        "outputId": "58369baa-cfc2-48f1-d6ea-6423a9503b8e"
      },
      "outputs": [
        {
          "output_type": "stream",
          "name": "stdout",
          "text": [
            "(2, 3)\n",
            "0 1 3\n"
          ]
        }
      ],
      "source": [
        "print ( b.shape)\n",
        "print ( b[0, 0], b[0, 1], b[1, 0])"
      ]
    },
    {
      "cell_type": "markdown",
      "metadata": {
        "id": "pNtk4_8UqaMO"
      },
      "source": [
        "### Creación de una matriz NumPy\n",
        "\n",
        "NumPy también proporciona muchas funciones integradas para crear matrices. La mejor manera de aprender esto es a través de ejemplos, así que pasemos al código."
      ]
    },
    {
      "cell_type": "code",
      "execution_count": 7,
      "metadata": {
        "id": "NyYKtrrGqaMP",
        "colab": {
          "base_uri": "https://localhost:8080/"
        },
        "outputId": "b4d76771-d714-4099-a021-eb6a8b9acbb6"
      },
      "outputs": [
        {
          "output_type": "stream",
          "name": "stdout",
          "text": [
            "[[0. 0. 0.]\n",
            " [0. 0. 0.]\n",
            " [0. 0. 0.]]\n"
          ]
        }
      ],
      "source": [
        "# Creamos una matriz 3x3 de todos ceros\n",
        "a = np.zeros((3,3))\n",
        "print (a)"
      ]
    },
    {
      "cell_type": "code",
      "execution_count": 8,
      "metadata": {
        "id": "mCLST8l6qaMQ",
        "colab": {
          "base_uri": "https://localhost:8080/"
        },
        "outputId": "f40928c7-9e10-49c1-b2b4-7ab2d8ce354e"
      },
      "outputs": [
        {
          "output_type": "stream",
          "name": "stdout",
          "text": [
            "[[1. 1.]\n",
            " [1. 1.]]\n"
          ]
        }
      ],
      "source": [
        "# Creamos una matriz 2x2 de todos 1\n",
        "b = np.ones((2,2))\n",
        "print (b)"
      ]
    },
    {
      "cell_type": "code",
      "execution_count": 9,
      "metadata": {
        "id": "6CJQKnPbqaMQ",
        "colab": {
          "base_uri": "https://localhost:8080/"
        },
        "outputId": "642fc678-c91b-4f9e-e191-39ab6700eced"
      },
      "outputs": [
        {
          "output_type": "stream",
          "name": "stdout",
          "text": [
            "[[7 7 7]\n",
            " [7 7 7]\n",
            " [7 7 7]]\n"
          ]
        }
      ],
      "source": [
        "# Creamos una matriz 3x3 constantes\n",
        "c = np.full((3,3), 7)\n",
        "print(c)"
      ]
    },
    {
      "cell_type": "code",
      "execution_count": 10,
      "metadata": {
        "id": "6WrXOZLfqaMR",
        "colab": {
          "base_uri": "https://localhost:8080/"
        },
        "outputId": "b16296c8-3624-4835-bd3f-c9aa5a5009fc"
      },
      "outputs": [
        {
          "output_type": "stream",
          "name": "stdout",
          "text": [
            "[[0.2054004  0.36186764 0.88333002]\n",
            " [0.87419303 0.53853313 0.62124054]\n",
            " [0.98086172 0.84920392 0.48503776]]\n"
          ]
        }
      ],
      "source": [
        "# Creamos una matriz 3x3 con valores aleatorios\n",
        "d = np.random.random((3,3))\n",
        "print (d)"
      ]
    },
    {
      "cell_type": "code",
      "execution_count": 11,
      "metadata": {
        "id": "2Fh7ah1dqaMR",
        "colab": {
          "base_uri": "https://localhost:8080/"
        },
        "outputId": "aa08c407-f77b-4cdf-9bb4-7369158e2daf"
      },
      "outputs": [
        {
          "output_type": "stream",
          "name": "stdout",
          "text": [
            "[[1. 0. 0.]\n",
            " [0. 1. 0.]\n",
            " [0. 0. 1.]]\n"
          ]
        }
      ],
      "source": [
        "# Creamos una matriz identidad 3x3\n",
        "e = np.eye(3)\n",
        "print(e)"
      ]
    },
    {
      "cell_type": "code",
      "execution_count": 12,
      "metadata": {
        "id": "3Z4n3uJbqaMR",
        "colab": {
          "base_uri": "https://localhost:8080/"
        },
        "outputId": "015927e8-d444-4b80-ce19-15b7c253bc86"
      },
      "outputs": [
        {
          "output_type": "stream",
          "name": "stdout",
          "text": [
            "[2 3 1 0]\n"
          ]
        }
      ],
      "source": [
        "# Convertir una lista en una matriz\n",
        "f = np.array([2, 3, 1,0])\n",
        "print(f)"
      ]
    },
    {
      "cell_type": "code",
      "execution_count": 13,
      "metadata": {
        "id": "tET5xDZ6qaMR",
        "colab": {
          "base_uri": "https://localhost:8080/"
        },
        "outputId": "4453b5a0-ee73-4b25-a148-e3202a9aa594"
      },
      "outputs": [
        {
          "output_type": "execute_result",
          "data": {
            "text/plain": [
              "array([3, 4, 5])"
            ]
          },
          "metadata": {},
          "execution_count": 13
        }
      ],
      "source": [
        "# arange() crea matrices con valores que se incrementan regularmente\n",
        "# Completar\n",
        "y = np.arange(3, 6, 1, dtype=int)\n",
        "y"
      ]
    },
    {
      "cell_type": "code",
      "execution_count": 14,
      "metadata": {
        "id": "RuGyOhkKqaMS",
        "colab": {
          "base_uri": "https://localhost:8080/"
        },
        "outputId": "aac6e49f-6414-4ae0-9c3e-b4cc0774f5aa"
      },
      "outputs": [
        {
          "output_type": "stream",
          "name": "stdout",
          "text": [
            "[[1, 2], 'a', 'b', (1, 2)]\n"
          ]
        },
        {
          "output_type": "execute_result",
          "data": {
            "text/plain": [
              "list"
            ]
          },
          "metadata": {},
          "execution_count": 14
        }
      ],
      "source": [
        "# Mezcla de tupla y listas\n",
        "# Completar\n",
        "list = (1,2,3)\n",
        "list2 = (1,2,3, \"a\")\n",
        "mezcla = [[1,2], \"a\", \"b\", (1,2)]\n",
        "print(mezcla)\n",
        "type(mezcla)\n",
        "type(list)\n",
        "type(list2)\n",
        "type(mezcla)\n",
        "\n",
        "#tuple - (). inmutable\n",
        "#list - []"
      ]
    },
    {
      "cell_type": "code",
      "execution_count": 15,
      "metadata": {
        "id": "Qqm5sInQqaMS",
        "colab": {
          "base_uri": "https://localhost:8080/"
        },
        "outputId": "db31e236-cf7b-49ca-ccd1-aecc5dd4bc54"
      },
      "outputs": [
        {
          "output_type": "stream",
          "name": "stdout",
          "text": [
            "[1. 2. 3. 4. 5. 6. 7.]\n"
          ]
        }
      ],
      "source": [
        "# Crear una matriz de rango con tipo de datos flotante\n",
        "i = np.arange(1, 8, dtype=np.float64)\n",
        "print(i)"
      ]
    },
    {
      "cell_type": "markdown",
      "metadata": {
        "id": "Ee1Sko4QqaMS"
      },
      "source": [
        "`linspace()`  crea matrices con un numero especifico de elementos que están espaciados por igual entre los valores inicial y final especificados"
      ]
    },
    {
      "cell_type": "code",
      "execution_count": 16,
      "metadata": {
        "id": "nHza6HfaqaMT",
        "colab": {
          "base_uri": "https://localhost:8080/"
        },
        "outputId": "14f4ee70-994d-4011-d0c2-6b15515332ab"
      },
      "outputs": [
        {
          "output_type": "execute_result",
          "data": {
            "text/plain": [
              "array([ 1.        ,  1.18367347,  1.36734694,  1.55102041,  1.73469388,\n",
              "        1.91836735,  2.10204082,  2.28571429,  2.46938776,  2.65306122,\n",
              "        2.83673469,  3.02040816,  3.20408163,  3.3877551 ,  3.57142857,\n",
              "        3.75510204,  3.93877551,  4.12244898,  4.30612245,  4.48979592,\n",
              "        4.67346939,  4.85714286,  5.04081633,  5.2244898 ,  5.40816327,\n",
              "        5.59183673,  5.7755102 ,  5.95918367,  6.14285714,  6.32653061,\n",
              "        6.51020408,  6.69387755,  6.87755102,  7.06122449,  7.24489796,\n",
              "        7.42857143,  7.6122449 ,  7.79591837,  7.97959184,  8.16326531,\n",
              "        8.34693878,  8.53061224,  8.71428571,  8.89795918,  9.08163265,\n",
              "        9.26530612,  9.44897959,  9.63265306,  9.81632653, 10.        ])"
            ]
          },
          "metadata": {},
          "execution_count": 16
        }
      ],
      "source": [
        "# Completa\n",
        "\n",
        "r = np.linspace(1,10,)\n",
        "r"
      ]
    },
    {
      "cell_type": "markdown",
      "metadata": {
        "id": "FhxDR-cfqaMT"
      },
      "source": [
        "### Tipos de datos\n",
        "Una matriz es una colección de elementos del mismo tipo de datos y NumPy admite y proporciona funciones integradas para construir matrices con argumentos opcionales para especificar explícitamente los tipos de datos requeridos."
      ]
    },
    {
      "cell_type": "code",
      "execution_count": 17,
      "metadata": {
        "id": "Um_OqxjPqaMT",
        "colab": {
          "base_uri": "https://localhost:8080/"
        },
        "outputId": "f433bb90-d387-4a49-9b60-112faade7a7f"
      },
      "outputs": [
        {
          "output_type": "stream",
          "name": "stdout",
          "text": [
            "int64 float64 int64\n"
          ]
        }
      ],
      "source": [
        "# Numpy escoge el tipo de datos\n",
        "x = np.array([0, 1])\n",
        "y = np.array([2.0, 3.0])\n",
        "\n",
        "# Fuerza un tipo de datos en particular\n",
        "z = np.array([5, 6], dtype=np.int64)\n",
        "print (x.dtype, y.dtype, z.dtype)"
      ]
    },
    {
      "cell_type": "markdown",
      "metadata": {
        "id": "-lRfXcA7qaMT"
      },
      "source": [
        "**Ejercicio** Completa el siguiente  código."
      ]
    },
    {
      "cell_type": "code",
      "execution_count": 19,
      "metadata": {
        "id": "5ZJRGP7BqaMT",
        "colab": {
          "base_uri": "https://localhost:8080/"
        },
        "outputId": "25e58c96-2352-4e3a-d07a-1f0cce1130c2"
      },
      "outputs": [
        {
          "output_type": "stream",
          "name": "stdout",
          "text": [
            "1 2 3\n",
            "(6,) (5, 4) (2, 4, 5)\n",
            "6 20 40\n",
            "int64 int64 int64\n",
            "8 8 8\n",
            "48 160 320\n"
          ]
        }
      ],
      "source": [
        "np.random.seed(0)\n",
        "\n",
        "x1 = np.random.randint(10, size=6)  # matriz 1-d\n",
        "x2 = np.random.randint(10, size=(5, 4))  # matriz-2d\n",
        "matrix = np.random.randint(10, size=(2, 4, 5)) # matriz-3d\n",
        "\n",
        " #Imprime los atributos : dim, shape, size, dtype, itemsize y nbytes\n",
        "\n",
        " #Completar\n",
        "print(x1.ndim, x2.ndim, matrix.ndim) #The number of axes (dimensions) of the array.\n",
        "print(x1.shape, x2.shape, matrix.shape)\n",
        "print(x1.size, x2.size, matrix.size)\n",
        "print(x1.dtype, x2.dtype, matrix.dtype)\n",
        "print(x1.itemsize, x2.itemsize, matrix.itemsize) #Length of one array element in bytes.\n",
        "print(x1.nbytes, x2.nbytes, matrix.nbytes) #Total bytes consumed by the elements of the array.\n"
      ]
    },
    {
      "cell_type": "markdown",
      "metadata": {
        "id": "hHdZuIRlqaMU"
      },
      "source": [
        "### Indexación de matrices\n",
        "\n",
        "NumPy ofrece varias formas de indexar en matrices. La sintaxis estándar de Python `x[obj]` se puede usar para indexar la matriz NumPy, donde `x` es la matriz y `obj` es la selección.\n",
        "\n",
        "Hay tres tipos de indexación disponibles:\n",
        "\n",
        "* Acceso al campo\n",
        "\n",
        "* Recorte básico\n",
        "\n",
        "* Indexación avanzada\n",
        "\n",
        "#### Acceso al campo\n",
        "\n",
        "Si el objeto ndarray es una matriz estructurada, se puede acceder a los campos de la matriz indexando la matriz con cadenas, como un diccionario. La indexación de `x['field-name']` devuelve una nueva vista de la matriz, que tiene la misma dimensión que `x`, excepto cuando el campo es una submatriz  que contiene sólo la parte de los datos en el campo especificado. Los tipos de datos se obtienen con `x.dtype['field-name']`."
      ]
    },
    {
      "cell_type": "code",
      "execution_count": 20,
      "metadata": {
        "id": "OPuRiaI0qaMU",
        "colab": {
          "base_uri": "https://localhost:8080/"
        },
        "outputId": "686c332c-4abe-4c42-a657-18cbb3dcf6e4"
      },
      "outputs": [
        {
          "output_type": "stream",
          "name": "stdout",
          "text": [
            "[[(0, [[0., 0., 0.], [0., 0., 0.], [0., 0., 0.]])\n",
            "  (0, [[0., 0., 0.], [0., 0., 0.], [0., 0., 0.]])\n",
            "  (0, [[0., 0., 0.], [0., 0., 0.], [0., 0., 0.]])]\n",
            " [(0, [[0., 0., 0.], [0., 0., 0.], [0., 0., 0.]])\n",
            "  (0, [[0., 0., 0.], [0., 0., 0.], [0., 0., 0.]])\n",
            "  (0, [[0., 0., 0.], [0., 0., 0.], [0., 0., 0.]])]\n",
            " [(0, [[0., 0., 0.], [0., 0., 0.], [0., 0., 0.]])\n",
            "  (0, [[0., 0., 0.], [0., 0., 0.], [0., 0., 0.]])\n",
            "  (0, [[0., 0., 0.], [0., 0., 0.], [0., 0., 0.]])]]\n"
          ]
        }
      ],
      "source": [
        "x = np.zeros((3,3), dtype=[('a', np.int32), ('b', np.float64, (3,3))])\n",
        "print(x)"
      ]
    },
    {
      "cell_type": "code",
      "execution_count": 21,
      "metadata": {
        "id": "qn7yP1DDqaMU",
        "colab": {
          "base_uri": "https://localhost:8080/"
        },
        "outputId": "44e1f509-011d-4f5f-b703-4f553811192b"
      },
      "outputs": [
        {
          "output_type": "stream",
          "name": "stdout",
          "text": [
            "x['a'].shape:  (3, 3)\n",
            "x['a'].dtype:  int32\n",
            "x['b'].shape:  (3, 3, 3, 3)\n",
            "x['b'].dtype:  float64\n"
          ]
        }
      ],
      "source": [
        "print (\"x['a'].shape: \",x['a'].shape)\n",
        "print (\"x['a'].dtype: \", x['a'].dtype)\n",
        "\n",
        "print (\"x['b'].shape: \", x['b'].shape)\n",
        "print (\"x['b'].dtype: \", x['b'].dtype)"
      ]
    },
    {
      "cell_type": "markdown",
      "metadata": {
        "id": "CFyYL7BHqaMU"
      },
      "source": [
        "#### Recorte básico\n",
        "\n",
        "Las matrices NumPy se pueden dividir, de forma similar a las listas. Debe especificar un segmento para cada dimensión de la matriz, ya que las matrices pueden ser multidimensionales.\n",
        "\n",
        "La sintaxis de división básica es `i: j: k`, donde `i` es el índice inicial, `j` es el índice final, `k` es el paso y `k` no es igual a 0. Esto selecciona los elementos `m` en la dimensión correspondiente, con valores de índice `, i + k, ...,i + (m - 1)k` donde `m = q + (r distinto de 0)`,  `q` y `r` son el cociente y el resto se obtiene dividiendo `j - i` entre `k`: `j - i = qk + r`, de modo que `i + (m - 1) k < j`."
      ]
    },
    {
      "cell_type": "code",
      "execution_count": 22,
      "metadata": {
        "id": "gXlzcajJqaMV",
        "colab": {
          "base_uri": "https://localhost:8080/"
        },
        "outputId": "84eacb9b-1733-4288-e641-20ecc7b3ea1d"
      },
      "outputs": [
        {
          "output_type": "execute_result",
          "data": {
            "text/plain": [
              "array([6, 8])"
            ]
          },
          "metadata": {},
          "execution_count": 22
        }
      ],
      "source": [
        "x = np.array([5, 6, 7, 8, 9])\n",
        "x[1:7:2]"
      ]
    },
    {
      "cell_type": "code",
      "source": [
        "x"
      ],
      "metadata": {
        "colab": {
          "base_uri": "https://localhost:8080/"
        },
        "id": "24200kIQQyan",
        "outputId": "a3d71fa3-0e08-4faf-fd32-e9a20b04efcd"
      },
      "execution_count": 23,
      "outputs": [
        {
          "output_type": "execute_result",
          "data": {
            "text/plain": [
              "array([5, 6, 7, 8, 9])"
            ]
          },
          "metadata": {},
          "execution_count": 23
        }
      ]
    },
    {
      "cell_type": "markdown",
      "metadata": {
        "id": "-NhBkQkcqaMV"
      },
      "source": [
        "La `k` negativa hace que los pasos vayan hacia índices más pequeños. Los `i` y `j` negativos se interpretan como `n + i` y `n + j` donde `n` es el número de elementos en la dimensión correspondiente."
      ]
    },
    {
      "cell_type": "code",
      "execution_count": 24,
      "metadata": {
        "id": "gf66zIIFqaMV",
        "colab": {
          "base_uri": "https://localhost:8080/"
        },
        "outputId": "8ef27407-d0ec-42be-a589-bc29fba7e349"
      },
      "outputs": [
        {
          "output_type": "stream",
          "name": "stdout",
          "text": [
            "[8 9]\n",
            "[9 8 7]\n"
          ]
        }
      ],
      "source": [
        "print (x[-2:5])\n",
        "print (x[-1:1:-1])"
      ]
    },
    {
      "cell_type": "markdown",
      "metadata": {
        "id": "ZZN6H4gfqaMV"
      },
      "source": [
        "Si `n` es el número de elementos en la dimensión que se está recortando. Entonces, si no se proporciona `i`, el valor predeterminado es `0` para  `k > 0` y `n-1` para `k < 0`. Si no se proporciona `j`, el valor predeterminado es `n` para `k > 0` y `-1` para `k < 0`. Si no se proporciona `k`, el valor predeterminado es `1`. Ten en cuenta que `::` es lo mismo que `:` y significa seleccionar todos los índices a lo largo de este eje."
      ]
    },
    {
      "cell_type": "code",
      "execution_count": 25,
      "metadata": {
        "id": "P4aUAvZDqaMV",
        "colab": {
          "base_uri": "https://localhost:8080/"
        },
        "outputId": "f0ad22cf-9a03-4df5-e75c-d49380243780"
      },
      "outputs": [
        {
          "output_type": "execute_result",
          "data": {
            "text/plain": [
              "array([9])"
            ]
          },
          "metadata": {},
          "execution_count": 25
        }
      ],
      "source": [
        "x[4:]"
      ]
    },
    {
      "cell_type": "markdown",
      "metadata": {
        "id": "LHGoBk77qaMW"
      },
      "source": [
        "Si el número de objetos en la tupla de selección es menor que N , entonces se asume `:` para cualquier dimensión subsiguiente."
      ]
    },
    {
      "cell_type": "code",
      "source": [
        "x"
      ],
      "metadata": {
        "colab": {
          "base_uri": "https://localhost:8080/"
        },
        "id": "R6fN7lkYRYLH",
        "outputId": "36ec9179-ff56-4fe7-af9f-49cde315663b"
      },
      "execution_count": 26,
      "outputs": [
        {
          "output_type": "execute_result",
          "data": {
            "text/plain": [
              "array([5, 6, 7, 8, 9])"
            ]
          },
          "metadata": {},
          "execution_count": 26
        }
      ]
    },
    {
      "cell_type": "code",
      "execution_count": 27,
      "metadata": {
        "id": "gGBsOVcTqaMW",
        "colab": {
          "base_uri": "https://localhost:8080/"
        },
        "outputId": "ca7dd0ea-ee61-4355-c47b-6e8580eab7ee"
      },
      "outputs": [
        {
          "output_type": "execute_result",
          "data": {
            "text/plain": [
              "array([5, 6, 7, 8, 9])"
            ]
          },
          "metadata": {},
          "execution_count": 27
        }
      ],
      "source": [
        "# Completar\n",
        "x\n",
        "x[0:10]"
      ]
    },
    {
      "cell_type": "markdown",
      "metadata": {
        "id": "kWkK2ssnqaMW"
      },
      "source": [
        "Los puntos suspensivos se expanden al número de : objetos necesarios para hacer una tupla de selección de la misma longitud que `x.ndim`. Solo puede haber una sola elipsis presente."
      ]
    },
    {
      "cell_type": "code",
      "execution_count": 28,
      "metadata": {
        "id": "9EhQ_hm1qaMW",
        "colab": {
          "base_uri": "https://localhost:8080/"
        },
        "outputId": "52cde6b2-4a1a-4d67-db06-55ac848ea39e"
      },
      "outputs": [
        {
          "output_type": "stream",
          "name": "stdout",
          "text": [
            "[5 6 7 8 9]\n"
          ]
        }
      ],
      "source": [
        "print(x)"
      ]
    },
    {
      "cell_type": "code",
      "execution_count": 29,
      "metadata": {
        "id": "L36IfJr7qaMX",
        "colab": {
          "base_uri": "https://localhost:8080/"
        },
        "outputId": "ddc694eb-80bc-4bac-8868-992f538bbe9b"
      },
      "outputs": [
        {
          "output_type": "execute_result",
          "data": {
            "text/plain": [
              "array(5)"
            ]
          },
          "metadata": {},
          "execution_count": 29
        }
      ],
      "source": [
        "x[...,0]"
      ]
    },
    {
      "cell_type": "code",
      "source": [
        "type(x)"
      ],
      "metadata": {
        "colab": {
          "base_uri": "https://localhost:8080/"
        },
        "id": "G8x-ifLMRlK1",
        "outputId": "76718841-a5be-4528-cefb-71797c42639e"
      },
      "execution_count": 30,
      "outputs": [
        {
          "output_type": "execute_result",
          "data": {
            "text/plain": [
              "numpy.ndarray"
            ]
          },
          "metadata": {},
          "execution_count": 30
        }
      ]
    },
    {
      "cell_type": "markdown",
      "metadata": {
        "id": "HroUqdKDqaMX"
      },
      "source": [
        "#### Ejercicio\n",
        "\n",
        "1. Crea una matriz de rango `2` con dimension `(3, 4)`\n",
        "\n",
        "2. Usa el recorte para extraer la submatriz que consta de las primeras `2` filas y las columnas `1` y `2`.\n",
        "\n",
        "3. Una parte de una matriz es solo una vista de los mismos datos, comprueba quecualquier modificación modificará la matriz original.\n",
        "\n"
      ]
    },
    {
      "cell_type": "code",
      "execution_count": 31,
      "metadata": {
        "id": "SO70Y-ssqaMX",
        "colab": {
          "base_uri": "https://localhost:8080/"
        },
        "outputId": "988d5fd4-737b-4292-e619-2dc2472233ce"
      },
      "outputs": [
        {
          "output_type": "execute_result",
          "data": {
            "text/plain": [
              "array([[5, 0, 3, 3],\n",
              "       [7, 9, 3, 5],\n",
              "       [2, 4, 7, 6]])"
            ]
          },
          "metadata": {},
          "execution_count": 31
        }
      ],
      "source": [
        "# Tu respuesta\n",
        "np.random.seed(0)\n",
        "\n",
        "#x1 = np.random.randint(10, size=6)  # matriz 1-d\n",
        "x2 = np.random.randint(10, size=(3, 4))  # matriz-2d\n",
        "#matrix = np.random.randint(10, size=(2, 4, 5)) # matriz-3d\n",
        "x2"
      ]
    },
    {
      "cell_type": "code",
      "source": [
        "subx2 = x2[:2,1:3]\n",
        "subx2"
      ],
      "metadata": {
        "colab": {
          "base_uri": "https://localhost:8080/"
        },
        "id": "h7Qc9tspSYhN",
        "outputId": "a4528c57-2554-41e0-85e5-12704237d5d7"
      },
      "execution_count": 32,
      "outputs": [
        {
          "output_type": "execute_result",
          "data": {
            "text/plain": [
              "array([[0, 3],\n",
              "       [9, 3]])"
            ]
          },
          "metadata": {},
          "execution_count": 32
        }
      ]
    },
    {
      "cell_type": "code",
      "source": [
        "x2 = x2[:2,1:3]\n",
        "x2"
      ],
      "metadata": {
        "colab": {
          "base_uri": "https://localhost:8080/"
        },
        "id": "KvswfkpNTLEH",
        "outputId": "3ebb203b-65f0-4e84-a0fa-e50ee2b696b0"
      },
      "execution_count": 33,
      "outputs": [
        {
          "output_type": "execute_result",
          "data": {
            "text/plain": [
              "array([[0, 3],\n",
              "       [9, 3]])"
            ]
          },
          "metadata": {},
          "execution_count": 33
        }
      ]
    },
    {
      "cell_type": "markdown",
      "metadata": {
        "id": "Pw-VG8JqqaMX"
      },
      "source": [
        "Se puede acceder a la matriz de la fila central de dos maneras.\n",
        "\n",
        "* Las partes junto con la indexación de enteros darán como resultado una matriz de rango inferior.\n",
        "\n",
        "* El uso de solo recortes dará como resultado el mismo rango matriz."
      ]
    },
    {
      "cell_type": "code",
      "execution_count": 34,
      "metadata": {
        "id": "W1ddrRz4qaMY",
        "colab": {
          "base_uri": "https://localhost:8080/"
        },
        "outputId": "d69ccaf0-4cc1-418b-c745-60f76d71891b"
      },
      "outputs": [
        {
          "output_type": "stream",
          "name": "stdout",
          "text": [
            "[[ 1  2  3  4]\n",
            " [ 5  6  7  8]\n",
            " [ 9 10 11 12]]\n"
          ]
        }
      ],
      "source": [
        "# Creamos una matriz de rango 2 array con dimensión (3, 4)\n",
        "a = np.array([[1,2,3,4], [5,6,7,8], [9,10,11,12]])\n",
        "print (a)"
      ]
    },
    {
      "cell_type": "markdown",
      "metadata": {
        "id": "LYSx-APpqaMY"
      },
      "source": [
        "Dos formas de acceder a los datos en la fila central de la matriz. La combinación de la indexación de enteros con recortes produce una matriz de menor rango, mientras que el uso de solo recortes produce una matriz del mismo rango que la matriz original:"
      ]
    },
    {
      "cell_type": "code",
      "execution_count": 35,
      "metadata": {
        "id": "c3xFq81hqaMY",
        "colab": {
          "base_uri": "https://localhost:8080/"
        },
        "outputId": "18f7dc68-eb81-44d1-8913-b800df5ef26c"
      },
      "outputs": [
        {
          "output_type": "stream",
          "name": "stdout",
          "text": [
            "[5 6 7 8] (4,)\n",
            "[[5 6 7 8]] (1, 4)\n",
            "[[5 6 7 8]] (1, 4)\n"
          ]
        }
      ],
      "source": [
        "fila_r1 = a[1, :]    # Vista de rango 1 de la segunda fila de a\n",
        "fila_r2 = a[1:2, :]  # Vista de rango 2 de la segunda fila de a\n",
        "fila_r3 = a[[1], :]  # Vista de ranfo 2 de la segunda fila de a\n",
        "print (fila_r1, fila_r1.shape)\n",
        "print (fila_r2, fila_r2.shape)\n",
        "print (fila_r3, fila_r3.shape)"
      ]
    },
    {
      "cell_type": "markdown",
      "metadata": {
        "id": "iYqVtaD6qaMY"
      },
      "source": [
        "Podemos hacer la misma distinción al acceder a las columnas de una matriz."
      ]
    },
    {
      "cell_type": "code",
      "execution_count": 36,
      "metadata": {
        "id": "PJAluA4FqaMY",
        "colab": {
          "base_uri": "https://localhost:8080/"
        },
        "outputId": "12c0db24-aca3-42f3-f835-b4c393b99c46"
      },
      "outputs": [
        {
          "output_type": "stream",
          "name": "stdout",
          "text": [
            "[ 2  6 10] (3,)\n",
            "[[ 2]\n",
            " [ 6]\n",
            " [10]] (3, 1)\n"
          ]
        }
      ],
      "source": [
        "col_r1 = a[:, 1]\n",
        "col_r2 = a[:, 1:2]\n",
        "print (col_r1, col_r1.shape)\n",
        "print (col_r2, col_r2.shape)"
      ]
    },
    {
      "cell_type": "markdown",
      "metadata": {
        "id": "PMt05HC7qaMZ"
      },
      "source": [
        "### Indexación avanzada\n"
      ]
    },
    {
      "cell_type": "code",
      "execution_count": 45,
      "metadata": {
        "id": "-l49FKg_qaMZ",
        "colab": {
          "base_uri": "https://localhost:8080/"
        },
        "outputId": "8ae8002a-5f69-482e-f19c-dc4d722dfe7c"
      },
      "outputs": [
        {
          "output_type": "stream",
          "name": "stdout",
          "text": [
            "[1 4]\n",
            "[[1 2]\n",
            " [3 4]]\n"
          ]
        }
      ],
      "source": [
        "a = np.array([[1,2], [3, 4]])\n",
        "print (a[[0, 1], [0, 1]])\n",
        "\n",
        "# El ejemplo de indexacion de una matriz entera es equivalente a esto:\n",
        "# completar\n",
        "a\n",
        "print(a[:])"
      ]
    },
    {
      "cell_type": "markdown",
      "metadata": {
        "id": "6NwtylSHqaMZ"
      },
      "source": [
        "Al usar la indexacion de un matriz de enteros, puede reutilizar el mismo elemento de la matriz de origen:"
      ]
    },
    {
      "cell_type": "code",
      "execution_count": 46,
      "metadata": {
        "id": "uAmd3gFYqaMZ",
        "colab": {
          "base_uri": "https://localhost:8080/"
        },
        "outputId": "e3cba2bc-2562-4bc4-cfa0-8615ae476677"
      },
      "outputs": [
        {
          "output_type": "stream",
          "name": "stdout",
          "text": [
            "[2 2]\n"
          ]
        }
      ],
      "source": [
        "print (a[[0, 0], [1, 1]])\n",
        "\n",
        "# Equivalente al ejemplo de indexacion de matriz de enteros\n",
        "# completar"
      ]
    },
    {
      "cell_type": "markdown",
      "metadata": {
        "id": "FOVCDT4tqaMZ"
      },
      "source": [
        "Un asunto  importante y extremadamente útil acerca de los recortes de una  matriz es que devuelven  *vistas (`views`)* en lugar de *copias (`copies`)*  de los datos de la matriz. Este es un área en la que NumPy  difiere de la lista de Python:  en las listas, estas son copias."
      ]
    },
    {
      "cell_type": "code",
      "execution_count": 47,
      "metadata": {
        "id": "BR_5P6aJqaMa",
        "colab": {
          "base_uri": "https://localhost:8080/"
        },
        "outputId": "b76c3d6b-f721-49e9-d735-4c1ea45872be"
      },
      "outputs": [
        {
          "output_type": "execute_result",
          "data": {
            "text/plain": [
              "array([[5, 0, 3, 3],\n",
              "       [7, 9, 3, 5],\n",
              "       [2, 4, 7, 6],\n",
              "       [8, 8, 1, 6],\n",
              "       [7, 7, 8, 1]])"
            ]
          },
          "metadata": {},
          "execution_count": 47
        }
      ],
      "source": [
        "np.random.seed(0)\n",
        "x2 = np.random.randint(10, size=(5, 4))\n",
        "x2"
      ]
    },
    {
      "cell_type": "code",
      "execution_count": 48,
      "metadata": {
        "id": "-J15zJjXqaMa",
        "colab": {
          "base_uri": "https://localhost:8080/"
        },
        "outputId": "f0677a55-cc7b-48ae-e634-8c048adcd061"
      },
      "outputs": [
        {
          "output_type": "stream",
          "name": "stdout",
          "text": [
            "[[5 0]\n",
            " [7 9]]\n"
          ]
        }
      ],
      "source": [
        "x2_sub = x2[:2, :2]\n",
        "print(x2_sub)"
      ]
    },
    {
      "cell_type": "code",
      "execution_count": 49,
      "metadata": {
        "id": "jZwufbuwqaMa",
        "colab": {
          "base_uri": "https://localhost:8080/"
        },
        "outputId": "b006e431-53ad-49f8-e4d6-70e55994d01d"
      },
      "outputs": [
        {
          "output_type": "stream",
          "name": "stdout",
          "text": [
            "[[99  0]\n",
            " [ 7  9]]\n"
          ]
        }
      ],
      "source": [
        "x2_sub[0, 0] = 99\n",
        "print(x2_sub)"
      ]
    },
    {
      "cell_type": "markdown",
      "metadata": {
        "id": "44JeYQoZqaMa"
      },
      "source": [
        "Este comportamiento predeterminado es realmente muy útil: significa que cuando trabajamos con grandes conjuntos de datos, podemos acceder y procesar partes de estos conjuntos de datos sin necesidad de copiar el búfer de datos.\n",
        "\n",
        "A pesar de las características  de las `vistas` de una  matriz, a veces es útil copiar de forma explícita los datos dentro de una matriz o una submatriz. Esto se puede hacer  con el método `copy()`:"
      ]
    },
    {
      "cell_type": "code",
      "execution_count": 50,
      "metadata": {
        "id": "x_pEqBRWqaMb",
        "colab": {
          "base_uri": "https://localhost:8080/"
        },
        "outputId": "7b661809-adad-4f54-e482-e9164f7769d8"
      },
      "outputs": [
        {
          "output_type": "stream",
          "name": "stdout",
          "text": [
            "[[99  0]\n",
            " [ 7  9]]\n"
          ]
        }
      ],
      "source": [
        "x2_sub_copy = x2[:2, :2].copy()\n",
        "print(x2_sub_copy)"
      ]
    },
    {
      "cell_type": "code",
      "execution_count": 51,
      "metadata": {
        "id": "GtNYYOe5qaMb",
        "colab": {
          "base_uri": "https://localhost:8080/"
        },
        "outputId": "107dc3b5-930a-49b6-c98f-eb0d3c45681f"
      },
      "outputs": [
        {
          "output_type": "stream",
          "name": "stdout",
          "text": [
            "[[42  0]\n",
            " [ 7  9]]\n"
          ]
        }
      ],
      "source": [
        "x2_sub_copy[0, 0] = 42\n",
        "print(x2_sub_copy)"
      ]
    },
    {
      "cell_type": "code",
      "execution_count": 52,
      "metadata": {
        "id": "e7MCSsi3qaMb",
        "colab": {
          "base_uri": "https://localhost:8080/"
        },
        "outputId": "51de0943-e6dd-4494-acf2-707f21d8fcfd"
      },
      "outputs": [
        {
          "output_type": "stream",
          "name": "stdout",
          "text": [
            "[[99  0  3  3]\n",
            " [ 7  9  3  5]\n",
            " [ 2  4  7  6]\n",
            " [ 8  8  1  6]\n",
            " [ 7  7  8  1]]\n"
          ]
        }
      ],
      "source": [
        "print(x2)"
      ]
    },
    {
      "cell_type": "markdown",
      "metadata": {
        "id": "ujejSPYnHRJ2"
      },
      "source": [
        "### Reshaping"
      ]
    },
    {
      "cell_type": "code",
      "execution_count": 54,
      "metadata": {
        "id": "RGpuTWaTHRJ2",
        "colab": {
          "base_uri": "https://localhost:8080/"
        },
        "outputId": "9b0b7bd2-6458-4122-c8e2-1072cd3df511"
      },
      "outputs": [
        {
          "output_type": "stream",
          "name": "stdout",
          "text": [
            "[[1 2 3]\n",
            " [4 5 6]\n",
            " [7 8 9]]\n"
          ]
        }
      ],
      "source": [
        "x4 = np.arange(1, 10).reshape((3, 3))\n",
        "print(x4)"
      ]
    },
    {
      "cell_type": "markdown",
      "metadata": {
        "id": "RU_ETRzWHRJ2"
      },
      "source": [
        "Ten en cuenta que para que esto funcione, el tamaño de la matriz inicial debe coincidir con el tamaño de la matriz rediseñada. Siempre que sea posible, el método `reshape` utilizará una `vista` sin copia de la matriz inicial.\n",
        "\n",
        "Otro patrón de `reshaping `, es la conversión de una matriz unidimensional en una fila o columna de una matriz bidimensional. Esto se puede hacer con el método `reshape`  o más fácilmente haciendo uso de `newaxis` dentro de una operación de división:"
      ]
    },
    {
      "cell_type": "code",
      "execution_count": 55,
      "metadata": {
        "id": "b-LEzn0SHRJ3",
        "colab": {
          "base_uri": "https://localhost:8080/"
        },
        "outputId": "e74490ac-44f4-4371-924d-d9276cbf9a9b"
      },
      "outputs": [
        {
          "output_type": "execute_result",
          "data": {
            "text/plain": [
              "array([1, 2, 3])"
            ]
          },
          "metadata": {},
          "execution_count": 55
        }
      ],
      "source": [
        "x5 = np.array([1, 2, 3])\n",
        "x5"
      ]
    },
    {
      "cell_type": "code",
      "execution_count": 56,
      "metadata": {
        "id": "p4UfmxWjHRJ3",
        "colab": {
          "base_uri": "https://localhost:8080/"
        },
        "outputId": "a6952e80-fcbd-44e1-9d26-98a83182a0cc"
      },
      "outputs": [
        {
          "output_type": "execute_result",
          "data": {
            "text/plain": [
              "array([[1],\n",
              "       [2],\n",
              "       [3]])"
            ]
          },
          "metadata": {},
          "execution_count": 56
        }
      ],
      "source": [
        "# vector fila via reshape\n",
        "# completar\n",
        "x5.reshape(3,1)"
      ]
    },
    {
      "cell_type": "code",
      "execution_count": 57,
      "metadata": {
        "id": "Pv8bWknUHRJ3",
        "colab": {
          "base_uri": "https://localhost:8080/"
        },
        "outputId": "7a829484-2625-4eb7-d133-52d97baba4de"
      },
      "outputs": [
        {
          "output_type": "execute_result",
          "data": {
            "text/plain": [
              "array([[1],\n",
              "       [2],\n",
              "       [3]])"
            ]
          },
          "metadata": {},
          "execution_count": 57
        }
      ],
      "source": [
        "# vector fila con newaxis\n",
        "# completar\n",
        "x5[:, np.newaxis]"
      ]
    },
    {
      "cell_type": "code",
      "execution_count": 58,
      "metadata": {
        "id": "Q2pcC_zfHRJ4",
        "colab": {
          "base_uri": "https://localhost:8080/"
        },
        "outputId": "8e41f75d-c6c3-46c8-8219-a0922dded6f4"
      },
      "outputs": [
        {
          "output_type": "execute_result",
          "data": {
            "text/plain": [
              "array([[1, 2, 3]])"
            ]
          },
          "metadata": {},
          "execution_count": 58
        }
      ],
      "source": [
        "# vector columna via reshape\n",
        "# completar\n",
        "x5.reshape(1,3)"
      ]
    },
    {
      "cell_type": "code",
      "execution_count": 59,
      "metadata": {
        "id": "HcVHXqr-HRJ4",
        "colab": {
          "base_uri": "https://localhost:8080/"
        },
        "outputId": "9bd0dc7b-748e-44c5-9261-fda089cd8beb"
      },
      "outputs": [
        {
          "output_type": "execute_result",
          "data": {
            "text/plain": [
              "array([[1, 2, 3]])"
            ]
          },
          "metadata": {},
          "execution_count": 59
        }
      ],
      "source": [
        "# vector columna con newaxis\n",
        "# completar\n",
        "x5[np.newaxis, :]"
      ]
    },
    {
      "cell_type": "markdown",
      "metadata": {
        "collapsed": true,
        "id": "YzFU6QFlHRJ4"
      },
      "source": [
        "### Concatenación y  separación\n"
      ]
    },
    {
      "cell_type": "code",
      "execution_count": 60,
      "metadata": {
        "id": "sViXchcIHRJ5",
        "colab": {
          "base_uri": "https://localhost:8080/"
        },
        "outputId": "5412e6cc-1e24-4f2f-f7b0-ed1016ac9fa8"
      },
      "outputs": [
        {
          "output_type": "execute_result",
          "data": {
            "text/plain": [
              "array([4, 5, 6, 7, 8, 9])"
            ]
          },
          "metadata": {},
          "execution_count": 60
        }
      ],
      "source": [
        "x = np.array([4, 5, 6])\n",
        "y = np.array([7, 8, 9])\n",
        "np.concatenate([x, y])"
      ]
    },
    {
      "cell_type": "code",
      "execution_count": 61,
      "metadata": {
        "id": "9P1oTO3SHRJ5",
        "colab": {
          "base_uri": "https://localhost:8080/"
        },
        "outputId": "0839b61d-73fb-41c3-9d21-4970b69e9bbf"
      },
      "outputs": [
        {
          "output_type": "stream",
          "name": "stdout",
          "text": [
            "[ 4  5  6  7  8  9 99 99 99]\n"
          ]
        }
      ],
      "source": [
        "# concatenacion de dos o mas matrices\n",
        "z = [99, 99, 99]\n",
        "print(np.concatenate([x, y, z]))"
      ]
    },
    {
      "cell_type": "code",
      "execution_count": 62,
      "metadata": {
        "id": "ExC9DeMgHRJ5",
        "colab": {
          "base_uri": "https://localhost:8080/"
        },
        "outputId": "eb06aeb5-a4a8-44ad-f0ee-9fd6b71fac53"
      },
      "outputs": [
        {
          "output_type": "execute_result",
          "data": {
            "text/plain": [
              "array([[1, 2, 3],\n",
              "       [4, 5, 6],\n",
              "       [1, 2, 3],\n",
              "       [4, 5, 6]])"
            ]
          },
          "metadata": {},
          "execution_count": 62
        }
      ],
      "source": [
        "# concatendo una matriz dos veces\n",
        "grid = np.array([[1, 2, 3],\n",
        "                 [4, 5, 6]])\n",
        "np.concatenate([grid, grid])"
      ]
    },
    {
      "cell_type": "markdown",
      "metadata": {
        "id": "FV3TV1wgHRJ6"
      },
      "source": [
        "Para trabajar con matrices de distintas dimensiones, se usan las funciones `vstack` y `hstack`:"
      ]
    },
    {
      "cell_type": "code",
      "execution_count": 63,
      "metadata": {
        "id": "JXqPVFAeHRJ6",
        "colab": {
          "base_uri": "https://localhost:8080/"
        },
        "outputId": "2c1a137b-4312-4573-ec8c-afdc849f52af"
      },
      "outputs": [
        {
          "output_type": "execute_result",
          "data": {
            "text/plain": [
              "array([[0, 1, 2],\n",
              "       [3, 4, 5],\n",
              "       [6, 5, 4]])"
            ]
          },
          "metadata": {},
          "execution_count": 63
        }
      ],
      "source": [
        "x = np.array([0, 1, 2])\n",
        "grid = np.array([[3, 4, 5],\n",
        "                 [6, 5, 4]])\n",
        "\n",
        "# Se junta la matriz de manera vertical\n",
        "# Completar\n",
        "np.vstack([x, grid])"
      ]
    },
    {
      "cell_type": "code",
      "execution_count": 78,
      "metadata": {
        "id": "tx_sdnkxHRJ7",
        "colab": {
          "base_uri": "https://localhost:8080/"
        },
        "outputId": "212ee642-df28-4ef4-b1f3-0c5c932fd572"
      },
      "outputs": [
        {
          "output_type": "execute_result",
          "data": {
            "text/plain": [
              "array([[ 0, 23],\n",
              "       [ 1, 23],\n",
              "       [ 2, 23]])"
            ]
          },
          "metadata": {},
          "execution_count": 78
        }
      ],
      "source": [
        "# Se junta la matriz de manera horizontal\n",
        "y = np.array([[23],\n",
        "              [23],\n",
        "              [23]])\n",
        "# Completar\n",
        "x_reshaped=x.reshape(3,1)\n",
        "np.hstack([x_reshaped, y])"
      ]
    },
    {
      "cell_type": "markdown",
      "metadata": {
        "collapsed": true,
        "id": "0GWOBZtIHRJ7"
      },
      "source": [
        "Lo contrario de la concatenación es la división o separación, que es implementado por las funciones `np.split`, `np.hsplit` y `np.vsplit`. Para cada uno de estas funciones , podemos pasar una lista de índices que dan los puntos de división.\n",
        "\n",
        "Ver:[https://numpy.org/doc/stable/reference/generated/numpy.split.html](https://numpy.org/doc/stable/reference/generated/numpy.split.html)"
      ]
    },
    {
      "cell_type": "code",
      "execution_count": 79,
      "metadata": {
        "id": "gkXomQdcHRJ7",
        "colab": {
          "base_uri": "https://localhost:8080/"
        },
        "outputId": "a0f67a90-e681-44a0-be3a-121014124ee2"
      },
      "outputs": [
        {
          "output_type": "stream",
          "name": "stdout",
          "text": [
            "[1 2 3] [44 95] [3 2 1]\n"
          ]
        }
      ],
      "source": [
        "x = [1, 2, 3, 44, 95, 3, 2, 1]\n",
        "x1, x2, x3 = np.split(x, [3, 5])\n",
        "print(x1, x2, x3)"
      ]
    },
    {
      "cell_type": "code",
      "execution_count": 80,
      "metadata": {
        "id": "N3db3D7cHRJ7",
        "colab": {
          "base_uri": "https://localhost:8080/"
        },
        "outputId": "56cdda49-f07d-44b6-ee4a-acfb557dd793"
      },
      "outputs": [
        {
          "output_type": "execute_result",
          "data": {
            "text/plain": [
              "array([[ 0,  1,  2,  3],\n",
              "       [ 4,  5,  6,  7],\n",
              "       [ 8,  9, 10, 11],\n",
              "       [12, 13, 14, 15]])"
            ]
          },
          "metadata": {},
          "execution_count": 80
        }
      ],
      "source": [
        "grid = np.arange(16).reshape((4, 4))\n",
        "grid"
      ]
    },
    {
      "cell_type": "code",
      "execution_count": 81,
      "metadata": {
        "id": "-1wFFEyfHRJ8",
        "colab": {
          "base_uri": "https://localhost:8080/"
        },
        "outputId": "af881505-7605-42c4-a8d3-3140f5435cae"
      },
      "outputs": [
        {
          "output_type": "stream",
          "name": "stdout",
          "text": [
            "[[0 1 2 3]\n",
            " [4 5 6 7]]\n",
            "[[ 8  9 10 11]\n",
            " [12 13 14 15]]\n"
          ]
        }
      ],
      "source": [
        "grid1, grid2 = np.vsplit(grid, [2])\n",
        "print(grid1)\n",
        "print(grid2)"
      ]
    },
    {
      "cell_type": "code",
      "execution_count": 82,
      "metadata": {
        "id": "-QSxKWNJHRJ8",
        "colab": {
          "base_uri": "https://localhost:8080/"
        },
        "outputId": "7991ef65-3975-44ff-e88b-776f37bd4d74"
      },
      "outputs": [
        {
          "output_type": "stream",
          "name": "stdout",
          "text": [
            "[[ 0  1]\n",
            " [ 4  5]\n",
            " [ 8  9]\n",
            " [12 13]]\n",
            "[[ 2  3]\n",
            " [ 6  7]\n",
            " [10 11]\n",
            " [14 15]]\n"
          ]
        }
      ],
      "source": [
        "grid3, grid4 = np.hsplit(grid,[2])\n",
        "print(grid3)\n",
        "print(grid4)"
      ]
    },
    {
      "cell_type": "markdown",
      "metadata": {
        "id": "tHP4XmEoHRKJ"
      },
      "source": [
        "### Fancy\n"
      ]
    },
    {
      "cell_type": "code",
      "execution_count": 83,
      "metadata": {
        "id": "p8Sk55iPHRKK",
        "colab": {
          "base_uri": "https://localhost:8080/"
        },
        "outputId": "fd00a236-7f8a-4e2f-b804-20a76a0fdf36"
      },
      "outputs": [
        {
          "output_type": "stream",
          "name": "stdout",
          "text": [
            "[51 92 14 71 60 20 82 86 74 74]\n"
          ]
        }
      ],
      "source": [
        "rand = np.random.RandomState(42)\n",
        "x = rand.randint(100, size=10)\n",
        "print(x)"
      ]
    },
    {
      "cell_type": "code",
      "execution_count": 88,
      "metadata": {
        "id": "WnihK-M2HRKM",
        "colab": {
          "base_uri": "https://localhost:8080/"
        },
        "outputId": "abb293dc-2b37-44d2-cce6-30e35e17f7d5"
      },
      "outputs": [
        {
          "output_type": "execute_result",
          "data": {
            "text/plain": [
              "[92, 20, 14]"
            ]
          },
          "metadata": {},
          "execution_count": 88
        }
      ],
      "source": [
        "# Accedemos a tres elementos diferentes\n",
        "[x[1], x[5], x[2]]"
      ]
    },
    {
      "cell_type": "markdown",
      "metadata": {
        "id": "avs1AUSlHRKN"
      },
      "source": [
        "Alternativamente, podemos pasar una sola lista o matriz de índices para obtener el mismo resultado:"
      ]
    },
    {
      "cell_type": "code",
      "execution_count": 91,
      "metadata": {
        "id": "buKD93QUHRKN",
        "colab": {
          "base_uri": "https://localhost:8080/"
        },
        "outputId": "497589f5-9fb6-49dc-a998-24efe81a5ebd"
      },
      "outputs": [
        {
          "output_type": "execute_result",
          "data": {
            "text/plain": [
              "array([92, 20, 14])"
            ]
          },
          "metadata": {},
          "execution_count": 91
        }
      ],
      "source": [
        "# Completar\n",
        "x[[1,5,2]]"
      ]
    },
    {
      "cell_type": "code",
      "source": [
        "indices = [1, 5, 2]\n",
        "x[indices]"
      ],
      "metadata": {
        "colab": {
          "base_uri": "https://localhost:8080/"
        },
        "id": "NNBRkLh3bWpn",
        "outputId": "8be3fc13-6405-4f45-94a4-6bdbd8e1286a"
      },
      "execution_count": 92,
      "outputs": [
        {
          "output_type": "execute_result",
          "data": {
            "text/plain": [
              "array([92, 20, 14])"
            ]
          },
          "metadata": {},
          "execution_count": 92
        }
      ]
    },
    {
      "cell_type": "markdown",
      "metadata": {
        "id": "pIU1Q9zyHRKO"
      },
      "source": [
        "Cuando se utiliza fancy, la forma del resultado refleja la forma de las matrices de índice en lugar de la forma de la matriz que se indexa y trabaja  en múltiples  dimensiones:"
      ]
    },
    {
      "cell_type": "code",
      "execution_count": 98,
      "metadata": {
        "id": "QFPQLUylHRKO",
        "colab": {
          "base_uri": "https://localhost:8080/"
        },
        "outputId": "e7fb7d62-1b19-41cc-a65d-da0c1aaf21ed"
      },
      "outputs": [
        {
          "output_type": "execute_result",
          "data": {
            "text/plain": [
              "array([[ 0,  1,  2,  3],\n",
              "       [ 4,  5,  6,  7],\n",
              "       [ 8,  9, 10, 11]])"
            ]
          },
          "metadata": {},
          "execution_count": 98
        }
      ],
      "source": [
        "X = np.arange(12).reshape((3, 4))\n",
        "X"
      ]
    },
    {
      "cell_type": "code",
      "source": [
        "X[1, 2]"
      ],
      "metadata": {
        "colab": {
          "base_uri": "https://localhost:8080/"
        },
        "id": "sjzxXdW1eTZf",
        "outputId": "f639348c-51d6-4b59-b945-54a5f68b295b"
      },
      "execution_count": 110,
      "outputs": [
        {
          "output_type": "execute_result",
          "data": {
            "text/plain": [
              "6"
            ]
          },
          "metadata": {},
          "execution_count": 110
        }
      ]
    },
    {
      "cell_type": "code",
      "execution_count": 111,
      "metadata": {
        "id": "u4Baonx_HRKO",
        "colab": {
          "base_uri": "https://localhost:8080/"
        },
        "outputId": "ce371484-be6b-4244-8e69-2cc2ac7e522c"
      },
      "outputs": [
        {
          "output_type": "execute_result",
          "data": {
            "text/plain": [
              "array([[1, 7],\n",
              "       [8, 2]])"
            ]
          },
          "metadata": {},
          "execution_count": 111
        }
      ],
      "source": [
        "# Completar\n",
        "ifilas = np.array([[0, 1],\n",
        "                   [2, 0]])\n",
        "icol = np.array([[1, 3],\n",
        "                 [0, 2]])\n",
        "\n",
        "X[ifilas, icol]"
      ]
    },
    {
      "cell_type": "code",
      "source": [
        "indices_row = [0, 2]  # Índices de filas\n",
        "indices_col = [1, 3]  # Índices de columnas\n",
        "X[indices_row][:, indices_col]"
      ],
      "metadata": {
        "colab": {
          "base_uri": "https://localhost:8080/"
        },
        "id": "UzbqgBCsd1L-",
        "outputId": "0e59d4fd-94ef-454a-816a-c1202895dabe"
      },
      "execution_count": 112,
      "outputs": [
        {
          "output_type": "execute_result",
          "data": {
            "text/plain": [
              "array([[ 1,  3],\n",
              "       [ 9, 11]])"
            ]
          },
          "metadata": {},
          "execution_count": 112
        }
      ]
    },
    {
      "cell_type": "markdown",
      "metadata": {
        "id": "BbqZMwVKHRKP"
      },
      "source": [
        "Al igual que con la indexación estándar, el primer índice se refiere a la fila, y el segundo a la columna:"
      ]
    },
    {
      "cell_type": "code",
      "execution_count": 118,
      "metadata": {
        "id": "JOmJykqdHRKP",
        "colab": {
          "base_uri": "https://localhost:8080/"
        },
        "outputId": "94d5845b-5c4f-483b-b417-1cfeb02f03f0"
      },
      "outputs": [
        {
          "output_type": "execute_result",
          "data": {
            "text/plain": [
              "array([ 2,  5, 11])"
            ]
          },
          "metadata": {},
          "execution_count": 118
        }
      ],
      "source": [
        "fila = np.array([0, 1, 2])\n",
        "col = np.array([2, 1, 3])\n",
        "X[fila, col]"
      ]
    },
    {
      "cell_type": "markdown",
      "metadata": {
        "id": "5UbI7MM1HRKP"
      },
      "source": [
        "Observa que el primer valor en el resultado es `X[0, 2]`, el segundo es `X[1, 1]`  y el tercero es `X[2, 3]`. El emparejamiento de índices en la indexación fancy  sigue todas las reglas del broadcasting, por ejemplo, si combinamos un vector de columna y un vector de fila dentro de los índices, obtenemos un resultado bidimensional:"
      ]
    },
    {
      "cell_type": "code",
      "source": [
        "X"
      ],
      "metadata": {
        "colab": {
          "base_uri": "https://localhost:8080/"
        },
        "id": "NOUi7Cd3e44A",
        "outputId": "5d241d90-47e9-445d-dabf-b657a73cd533"
      },
      "execution_count": 119,
      "outputs": [
        {
          "output_type": "execute_result",
          "data": {
            "text/plain": [
              "array([[ 0,  1,  2,  3],\n",
              "       [ 4,  5,  6,  7],\n",
              "       [ 8,  9, 10, 11]])"
            ]
          },
          "metadata": {},
          "execution_count": 119
        }
      ]
    },
    {
      "cell_type": "code",
      "execution_count": 120,
      "metadata": {
        "id": "ZHaBvrvmHRKQ",
        "colab": {
          "base_uri": "https://localhost:8080/"
        },
        "outputId": "c912381b-c200-4f84-c06c-83719ad9e21f"
      },
      "outputs": [
        {
          "output_type": "execute_result",
          "data": {
            "text/plain": [
              "array([[ 2,  1,  3],\n",
              "       [ 6,  5,  7],\n",
              "       [10,  9, 11]])"
            ]
          },
          "metadata": {},
          "execution_count": 120
        }
      ],
      "source": [
        "# Completar\n",
        "fila1 = np.array([[0],\n",
        "                 [1],\n",
        "                 [2]])\n",
        "col1 = np.array([[2, 1, 3]])\n",
        "\n",
        "X[fila1, col1]\n",
        "\n",
        "#Aquí, cada elemento en la posición (i, j) del resultado proviene del emparejamiento de los\n",
        "#elementos en la fila i del vector indices_filas con los elementos en la columna j del vector indices_columnas."
      ]
    },
    {
      "cell_type": "markdown",
      "metadata": {
        "id": "UY1C8fh7HRKQ"
      },
      "source": [
        "Aquí, cada valor de fila se empareja con cada vector de columna, exactamente como se hace en broadcasting  de operaciones aritméticas. Por ejemplo:"
      ]
    },
    {
      "cell_type": "code",
      "execution_count": 121,
      "metadata": {
        "id": "WlT7nSHMHRKQ",
        "colab": {
          "base_uri": "https://localhost:8080/"
        },
        "outputId": "33a1cac9-7cb4-49a6-e671-25382c3c8655"
      },
      "outputs": [
        {
          "output_type": "execute_result",
          "data": {
            "text/plain": [
              "array([[2, 1, 3],\n",
              "       [3, 2, 4],\n",
              "       [4, 3, 5]])"
            ]
          },
          "metadata": {},
          "execution_count": 121
        }
      ],
      "source": [
        "# Completar\n",
        "fila1 + col1"
      ]
    },
    {
      "cell_type": "markdown",
      "metadata": {
        "id": "3UA5Ps0cHRKd"
      },
      "source": [
        "Siempre es importante recordar que en  la indexación fancy, el valor de retorno refleja la forma del broadcasting  de los índices, en lugar de la forma de la matriz que se indexa."
      ]
    },
    {
      "cell_type": "markdown",
      "metadata": {
        "id": "QN9wN13cHRKd"
      },
      "source": [
        "Para operaciones  más potentes, la indexación adornada se puede combinar con los otros esquemas de indexación que existen:"
      ]
    },
    {
      "cell_type": "code",
      "execution_count": 122,
      "metadata": {
        "id": "p_gbcz40HRKe",
        "colab": {
          "base_uri": "https://localhost:8080/"
        },
        "outputId": "5faac6a1-477d-4d58-fb98-054c2b810522"
      },
      "outputs": [
        {
          "output_type": "stream",
          "name": "stdout",
          "text": [
            "[[ 0  1  2  3]\n",
            " [ 4  5  6  7]\n",
            " [ 8  9 10 11]]\n"
          ]
        }
      ],
      "source": [
        "print(X)"
      ]
    },
    {
      "cell_type": "code",
      "execution_count": 124,
      "metadata": {
        "id": "TEFOFrl4HRKe",
        "colab": {
          "base_uri": "https://localhost:8080/"
        },
        "outputId": "35fb4e04-10cc-43b3-c8b5-3edaec4e15f2"
      },
      "outputs": [
        {
          "output_type": "execute_result",
          "data": {
            "text/plain": [
              "array([1, 9])"
            ]
          },
          "metadata": {},
          "execution_count": 124
        }
      ],
      "source": [
        "# Combinando el indexado fancy y indices simples\n",
        "# Completar\n",
        "indices_filas = [0, 2]\n",
        "indice_simple = 1\n",
        "\n",
        "X[indices_filas, indice_simple]"
      ]
    },
    {
      "cell_type": "code",
      "source": [
        "indice_simple = 2\n",
        "indices_columnas = [1, 3]\n",
        "\n",
        "X[indice_simple, indices_columnas]"
      ],
      "metadata": {
        "colab": {
          "base_uri": "https://localhost:8080/"
        },
        "id": "kAGuu21jgR0W",
        "outputId": "d7b39e28-ea22-449f-bc44-553211c8e7ec"
      },
      "execution_count": 125,
      "outputs": [
        {
          "output_type": "execute_result",
          "data": {
            "text/plain": [
              "array([ 9, 11])"
            ]
          },
          "metadata": {},
          "execution_count": 125
        }
      ]
    },
    {
      "cell_type": "code",
      "source": [
        "indices_filas = [0, 2]\n",
        "indices_columnas = [1, 3]\n",
        "indice_simple = 1\n",
        "\n",
        "X[indices_filas, indices_columnas[indice_simple]]\n"
      ],
      "metadata": {
        "colab": {
          "base_uri": "https://localhost:8080/"
        },
        "id": "mhlLwEbkgaoz",
        "outputId": "c2666473-c588-4483-eef5-c0f3a7684797"
      },
      "execution_count": 126,
      "outputs": [
        {
          "output_type": "execute_result",
          "data": {
            "text/plain": [
              "array([ 3, 11])"
            ]
          },
          "metadata": {},
          "execution_count": 126
        }
      ]
    },
    {
      "cell_type": "code",
      "execution_count": 127,
      "metadata": {
        "id": "BZcspK2-HRKe",
        "colab": {
          "base_uri": "https://localhost:8080/"
        },
        "outputId": "b49d05bb-8395-4702-870a-f462f5b50d61"
      },
      "outputs": [
        {
          "output_type": "execute_result",
          "data": {
            "text/plain": [
              "array([[ 1,  3],\n",
              "       [ 9, 11]])"
            ]
          },
          "metadata": {},
          "execution_count": 127
        }
      ],
      "source": [
        "# Combinando el indexado fancy y el recorte\n",
        "# Completar\n",
        "\n",
        "indices_filas = [0, 2]\n",
        "indices_columnas = [1, 3]\n",
        "\n",
        "X[indices_filas][:, indices_columnas]"
      ]
    },
    {
      "cell_type": "markdown",
      "metadata": {
        "id": "O1T_gLwoHRKf"
      },
      "source": [
        "Así como el fancy  se puede utilizar para acceder a partes de una matriz, también se puede utilizar para modificar partes de una matriz. Por ejemplo, si  tenemos una matriz de índices y nos gustaría establecer los elementos correspondientes en una matriz a algún valor, podemos hacer lo siguiente:"
      ]
    },
    {
      "cell_type": "code",
      "execution_count": 128,
      "metadata": {
        "id": "ye2LR3_qHRKf",
        "colab": {
          "base_uri": "https://localhost:8080/"
        },
        "outputId": "15df517c-5220-49d7-c1bd-3425fb8e06d9"
      },
      "outputs": [
        {
          "output_type": "stream",
          "name": "stdout",
          "text": [
            "[ 0 99 99  3 99  5  6  7 99  9]\n"
          ]
        }
      ],
      "source": [
        "x = np.arange(10)\n",
        "i = np.array([2, 1, 8, 4])\n",
        "x[i] = 99\n",
        "print(x)"
      ]
    },
    {
      "cell_type": "markdown",
      "metadata": {
        "id": "R7FOcHtwHRKg"
      },
      "source": [
        "Los índices repetidos con estas operaciones pueden causar algunos resultados potencialmente inesperados. Considera lo siguiente:"
      ]
    },
    {
      "cell_type": "code",
      "execution_count": 129,
      "metadata": {
        "id": "Ja7j27ctHRKg",
        "colab": {
          "base_uri": "https://localhost:8080/"
        },
        "outputId": "a81ff8d7-5f84-4558-bfb5-72148677f8d7"
      },
      "outputs": [
        {
          "output_type": "stream",
          "name": "stdout",
          "text": [
            "[6. 0. 0. 0. 0. 0. 0. 0. 0. 0.]\n"
          ]
        }
      ],
      "source": [
        "x = np.zeros(10)\n",
        "x[[0, 0]] = [4, 6]\n",
        "print(x)"
      ]
    },
    {
      "cell_type": "markdown",
      "metadata": {
        "collapsed": true,
        "id": "O3wLVTgBHRKg"
      },
      "source": [
        "El resultado de esta operación es asignar primero  `x[0] = 4`, seguido por `x[0] = 6`. Pero el resultado es que `x[0]` contiene el valor 6.\n",
        "\n",
        "Considera la siguiente operación:"
      ]
    },
    {
      "cell_type": "code",
      "execution_count": 138,
      "metadata": {
        "id": "9Y9isBdeHRKg",
        "colab": {
          "base_uri": "https://localhost:8080/"
        },
        "outputId": "1b5f2111-a86e-4ee2-b98f-fd09f9bed3fc"
      },
      "outputs": [
        {
          "output_type": "execute_result",
          "data": {
            "text/plain": [
              "array([ 8.,  2.,  8., 10., 10.,  0.,  0.,  0.,  0.,  0.])"
            ]
          },
          "metadata": {},
          "execution_count": 138
        }
      ],
      "source": [
        "i = [2, 3, 3, 4, 4, 4]\n",
        "x[i] += 1\n",
        "x"
      ]
    },
    {
      "cell_type": "markdown",
      "metadata": {
        "id": "fLCn40UwHRKh"
      },
      "source": [
        "En este caso algún resultado inesperado se debe conceptualmente  a que `x[i] +=1` se entiende como una abreviatura de `x[i] = x [i] + 1`. Cuando `x[i] + 1` es evaluado el resultado es asignado  a los índices en `x` . Con esto en mente, no es que el aumento que ocurre varias veces, sino la asignación, que conduce a los resultados  no intuitivos.\n",
        "\n",
        "Si quieremos  el otro comportamiento donde se repite la operación, se puede utilizar el método `at()` de `ufuncs`:"
      ]
    },
    {
      "cell_type": "code",
      "execution_count": 139,
      "metadata": {
        "id": "3rahnE5wHRKi",
        "colab": {
          "base_uri": "https://localhost:8080/"
        },
        "outputId": "d7cdaa31-6883-4689-8fe0-b2f994332425"
      },
      "outputs": [
        {
          "output_type": "execute_result",
          "data": {
            "text/plain": [
              "array([ 8.,  2.,  9., 12., 13.,  0.,  0.,  0.,  0.,  0.])"
            ]
          },
          "metadata": {},
          "execution_count": 139
        }
      ],
      "source": [
        "# Completar\n",
        "np.add.at(x, i, 1)\n",
        "x"
      ]
    },
    {
      "cell_type": "markdown",
      "metadata": {
        "id": "0rziizOtHRKj"
      },
      "source": [
        "El método `at()` realiza una aplicación  del operador dado en los índices especificados (aquí, `i`) con el valor especificado (aquí, `1`)."
      ]
    },
    {
      "cell_type": "markdown",
      "metadata": {
        "id": "17TwhqScqaMm"
      },
      "source": [
        "###  Expresiones vectorizadas"
      ]
    },
    {
      "cell_type": "markdown",
      "metadata": {
        "id": "3QMUpEcqqaMn"
      },
      "source": [
        "### Agregaciones\n"
      ]
    },
    {
      "cell_type": "code",
      "execution_count": 140,
      "metadata": {
        "id": "MLhcZaakqaMn",
        "colab": {
          "base_uri": "https://localhost:8080/"
        },
        "outputId": "2e9b2697-f680-48e6-a8ef-aea3f2968013"
      },
      "outputs": [
        {
          "output_type": "execute_result",
          "data": {
            "text/plain": [
              "47.03631196196963"
            ]
          },
          "metadata": {},
          "execution_count": 140
        }
      ],
      "source": [
        "L = np.random.random(100)\n",
        "sum(L)"
      ]
    },
    {
      "cell_type": "markdown",
      "metadata": {
        "id": "0Y_nOzbsqaMn"
      },
      "source": [
        "La sintaxis es bastante similar a la función de `sum` de  `NumPy`  y el resultado es el mismo en el caso más simple:"
      ]
    },
    {
      "cell_type": "code",
      "execution_count": 141,
      "metadata": {
        "id": "WXgGIcQSqaMn",
        "colab": {
          "base_uri": "https://localhost:8080/"
        },
        "outputId": "ac73fd84-4df7-447f-af40-db74e627c067"
      },
      "outputs": [
        {
          "output_type": "execute_result",
          "data": {
            "text/plain": [
              "47.03631196196964"
            ]
          },
          "metadata": {},
          "execution_count": 141
        }
      ],
      "source": [
        "np.sum(L)"
      ]
    },
    {
      "cell_type": "markdown",
      "metadata": {
        "id": "7FhCoi_JqaMn"
      },
      "source": [
        "Sin embargo, debido a que la operación se ejecuta  en código compilado, la versión `NumPy` de la operación se calcula mucho más rápidamente:"
      ]
    },
    {
      "cell_type": "code",
      "execution_count": 142,
      "metadata": {
        "id": "L1FKgXK_qaMn",
        "colab": {
          "base_uri": "https://localhost:8080/"
        },
        "outputId": "bf4b510c-b73a-4c34-bbec-04b93d15e719"
      },
      "outputs": [
        {
          "output_type": "stream",
          "name": "stdout",
          "text": [
            "108 ms ± 32.2 ms per loop (mean ± std. dev. of 7 runs, 10 loops each)\n",
            "378 µs ± 15.4 µs per loop (mean ± std. dev. of 7 runs, 1000 loops each)\n"
          ]
        }
      ],
      "source": [
        "matriz_grande = np.random.rand(1000000)\n",
        "%timeit sum(matriz_grande)\n",
        "%timeit np.sum(matriz_grande)"
      ]
    },
    {
      "cell_type": "markdown",
      "metadata": {
        "id": "7I3yj7HrqaMn"
      },
      "source": [
        "La función `sum` y la función `np.sum` no son idénticas, lo que a veces puede conducir a la confusión.  En particular, sus argumentos opcionales tienen significados diferentes  y `np.sum` es válido a  varias dimensiones de una matriz."
      ]
    },
    {
      "cell_type": "code",
      "execution_count": 143,
      "metadata": {
        "id": "46tC54BJqaMn",
        "colab": {
          "base_uri": "https://localhost:8080/"
        },
        "outputId": "92941e2d-2477-4d82-b0e0-b2369f1d9d05"
      },
      "outputs": [
        {
          "output_type": "execute_result",
          "data": {
            "text/plain": [
              "(7.071203171893359e-07, 0.9999997207656334)"
            ]
          },
          "metadata": {},
          "execution_count": 143
        }
      ],
      "source": [
        "# Otras funciones min y max\n",
        "min(matriz_grande), max(matriz_grande)"
      ]
    },
    {
      "cell_type": "code",
      "execution_count": 144,
      "metadata": {
        "id": "RcZyNPFzqaMn",
        "colab": {
          "base_uri": "https://localhost:8080/"
        },
        "outputId": "6b254e92-6fc4-42cc-b767-b40ab6e7efd2"
      },
      "outputs": [
        {
          "output_type": "stream",
          "name": "stdout",
          "text": [
            "66 ms ± 9.36 ms per loop (mean ± std. dev. of 7 runs, 10 loops each)\n",
            "448 µs ± 9.52 µs per loop (mean ± std. dev. of 7 runs, 1000 loops each)\n"
          ]
        }
      ],
      "source": [
        "%timeit min(matriz_grande)\n",
        "%timeit np.min(matriz_grande)"
      ]
    },
    {
      "cell_type": "markdown",
      "metadata": {
        "id": "FKC12DzRqaMn"
      },
      "source": [
        "Todas estas funciones también están disponibles como métodos en la clase `ndarray`. Por ejemplo, `np.mean(data)` y `data.mean()` en el ejemplo siguiente son equivalentes:"
      ]
    },
    {
      "cell_type": "code",
      "execution_count": 145,
      "metadata": {
        "id": "ubeb597jqaMn",
        "colab": {
          "base_uri": "https://localhost:8080/"
        },
        "outputId": "434a3d71-1657-4b5f-b815-ed8df955ffbb"
      },
      "outputs": [
        {
          "output_type": "execute_result",
          "data": {
            "text/plain": [
              "0.044126718568646986"
            ]
          },
          "metadata": {},
          "execution_count": 145
        }
      ],
      "source": [
        "data = np.random.normal(size=(15, 15))\n",
        "np.mean(data)"
      ]
    },
    {
      "cell_type": "code",
      "execution_count": 146,
      "metadata": {
        "id": "otNwU7ucqaMn",
        "colab": {
          "base_uri": "https://localhost:8080/"
        },
        "outputId": "f25c7af4-e9e8-4889-c5d3-25240008de51"
      },
      "outputs": [
        {
          "output_type": "execute_result",
          "data": {
            "text/plain": [
              "0.044126718568646986"
            ]
          },
          "metadata": {},
          "execution_count": 146
        }
      ],
      "source": [
        "data.mean()"
      ]
    },
    {
      "cell_type": "markdown",
      "metadata": {
        "id": "AK90lEACqaMn"
      },
      "source": [
        "Un tipo común de operación de agregación es un agregado a lo largo de una fila o columna."
      ]
    },
    {
      "cell_type": "code",
      "execution_count": 147,
      "metadata": {
        "id": "s_Z0q4xHqaMo",
        "colab": {
          "base_uri": "https://localhost:8080/"
        },
        "outputId": "17d848d9-4bfc-4470-db87-54cffbc00031"
      },
      "outputs": [
        {
          "output_type": "stream",
          "name": "stdout",
          "text": [
            "[[0.78911301 0.63111867 0.7285163  0.66979703 0.17088322 0.13881003]\n",
            " [0.00935403 0.63751707 0.76420221 0.1876222  0.95137218 0.44469986]\n",
            " [0.47577551 0.43077223 0.49532871 0.58341548 0.27654054 0.96025749]\n",
            " [0.12685672 0.38686572 0.29660634 0.99907694 0.00377931 0.82984241]\n",
            " [0.75816216 0.01685189 0.23811077 0.28054238 0.63922302 0.31781681]]\n"
          ]
        }
      ],
      "source": [
        "M = np.random.random((5, 6))\n",
        "print(M)"
      ]
    },
    {
      "cell_type": "markdown",
      "metadata": {
        "id": "9q0RaQs4qaMo"
      },
      "source": [
        "De forma predeterminada, cada función de agregación de  `NumPy`  devolverá el agregado sobre toda la matriz:"
      ]
    },
    {
      "cell_type": "code",
      "execution_count": 148,
      "metadata": {
        "id": "Mvn_GqRDqaMo",
        "colab": {
          "base_uri": "https://localhost:8080/"
        },
        "outputId": "c40872c0-4ac3-46cb-e510-d1730afd63da"
      },
      "outputs": [
        {
          "output_type": "execute_result",
          "data": {
            "text/plain": [
              "14.238830244406318"
            ]
          },
          "metadata": {},
          "execution_count": 148
        }
      ],
      "source": [
        "M.sum()"
      ]
    },
    {
      "cell_type": "markdown",
      "metadata": {
        "id": "vk6BEGcBqaMo"
      },
      "source": [
        "Las funciones de agregación toman un argumento adicional que especifica el eje a lo largo del cual se calcula el agregado. Por ejemplo, podemos encontrar el valor de la suma y el  mínimo de cada columna especificando `axis = 0`:"
      ]
    },
    {
      "cell_type": "code",
      "execution_count": 149,
      "metadata": {
        "id": "m45aeskcqaMp",
        "colab": {
          "base_uri": "https://localhost:8080/"
        },
        "outputId": "296d0d50-49eb-4e78-87ae-b73e09d81e3b"
      },
      "outputs": [
        {
          "output_type": "execute_result",
          "data": {
            "text/plain": [
              "array([2.15926144, 2.10312558, 2.52276433, 2.72045403, 2.04179827,\n",
              "       2.69142659])"
            ]
          },
          "metadata": {},
          "execution_count": 149
        }
      ],
      "source": [
        "M.sum(axis= 0)"
      ]
    },
    {
      "cell_type": "code",
      "execution_count": 150,
      "metadata": {
        "id": "7hcqoOstqaMp",
        "colab": {
          "base_uri": "https://localhost:8080/"
        },
        "outputId": "77539ff5-ce24-427d-e358-0c50f6b1ab1c"
      },
      "outputs": [
        {
          "output_type": "execute_result",
          "data": {
            "text/plain": [
              "(10, 15)"
            ]
          },
          "metadata": {},
          "execution_count": 150
        }
      ],
      "source": [
        "data = np.random.normal(size=(5, 10, 15))\n",
        "data.sum(axis=0).shape"
      ]
    },
    {
      "cell_type": "code",
      "execution_count": 151,
      "metadata": {
        "id": "Rp1FO9UoqaMp",
        "colab": {
          "base_uri": "https://localhost:8080/"
        },
        "outputId": "a1f1ca65-4544-4063-c1d7-3e9a57b9e7a8"
      },
      "outputs": [
        {
          "output_type": "execute_result",
          "data": {
            "text/plain": [
              "(10,)"
            ]
          },
          "metadata": {},
          "execution_count": 151
        }
      ],
      "source": [
        "data.sum(axis=(0, 2)).shape"
      ]
    },
    {
      "cell_type": "code",
      "execution_count": 152,
      "metadata": {
        "id": "aD18Ek0-qaMp",
        "colab": {
          "base_uri": "https://localhost:8080/"
        },
        "outputId": "3c920ab1-1243-4d99-becf-33830e124685"
      },
      "outputs": [
        {
          "output_type": "execute_result",
          "data": {
            "text/plain": [
              "-40.96575138792459"
            ]
          },
          "metadata": {},
          "execution_count": 152
        }
      ],
      "source": [
        "data.sum()"
      ]
    },
    {
      "cell_type": "markdown",
      "metadata": {
        "id": "2m9jJXUYqaMp"
      },
      "source": [
        "Algunas funciones de agregación en `Numpy ` son :\n",
        "\n",
        "\n",
        "|Nombre de funcion  | VersionNaN-safe     | Descripcion                                   |\n",
        "|-------------------|---------------------|-----------------------------------------------|\n",
        "| ``np.sum``        | ``np.nansum``       | Calcula suma de elementos                     |\n",
        "| ``np.prod``       | ``np.nanprod``      | Calcula el producto de elementos              |\n",
        "| ``np.mean``       | ``np.nanmean``      | Calcula la media de elementos                 |\n",
        "| ``np.std``        | ``np.nanstd``       | Calcula la desviacion estandar                |\n",
        "| ``np.var``        | ``np.nanvar``       | Calcula la  varianza                          |\n",
        "| ``np.min``        | ``np.nanmin``       | Encuentra el minimo valor                     |\n",
        "| ``np.max``        | ``np.nanmax``       | Encuentra el maximo valor                     |\n",
        "| ``np.argmin``     | ``np.nanargmin``    | Encuenta el index del minimo valor            |\n",
        "| ``np.argmax``     | ``np.nanargmax``    | Encuentra el index del maximo valor           |\n",
        "| ``np.median``     | ``np.nanmedian``    | Calcula la mediana de elementos               |\n",
        "| ``np.percentile`` | ``np.nanpercentile``| Calcula el rango estatistico de elementos     |\n",
        "| ``np.any``        | N/A                 | Evalua si algun elemento es true              |\n",
        "| ``np.all``        | N/A                 | Evalua si todos los elementos son true        |\n",
        "\n"
      ]
    },
    {
      "cell_type": "markdown",
      "metadata": {
        "id": "2Sf0e5STqaMp"
      },
      "source": [
        "#### Broadcasting\n"
      ]
    },
    {
      "cell_type": "code",
      "execution_count": 153,
      "metadata": {
        "id": "5Fm9Ue4dqaMp",
        "colab": {
          "base_uri": "https://localhost:8080/"
        },
        "outputId": "283f6c71-44aa-445b-8ee6-ac9fe6d38c87"
      },
      "outputs": [
        {
          "output_type": "execute_result",
          "data": {
            "text/plain": [
              "array([2, 7, 3])"
            ]
          },
          "metadata": {},
          "execution_count": 153
        }
      ],
      "source": [
        "a = np.array([0, 1, 2])\n",
        "b = np.array([2, 6, 1])\n",
        "a + b"
      ]
    },
    {
      "cell_type": "markdown",
      "metadata": {
        "id": "8eGn-GPsqaMq"
      },
      "source": [
        "El  `broadcasting` permite que estos tipos de operaciones binarias se realicen en matrices de diferentes tamaños; por ejemplo, podemos añadir  un escalar (una matriz de dimensión cero) a una matriz:"
      ]
    },
    {
      "cell_type": "code",
      "execution_count": 154,
      "metadata": {
        "id": "OEK6G1FPqaMq",
        "colab": {
          "base_uri": "https://localhost:8080/"
        },
        "outputId": "e39a9570-e7cf-4ff3-dbfe-3d6f9b21930c"
      },
      "outputs": [
        {
          "output_type": "execute_result",
          "data": {
            "text/plain": [
              "array([5, 6, 7])"
            ]
          },
          "metadata": {},
          "execution_count": 154
        }
      ],
      "source": [
        "a + 5\n"
      ]
    },
    {
      "cell_type": "markdown",
      "metadata": {
        "id": "9ejWt-p-qaMq"
      },
      "source": [
        "Podemos extender de manera similar esto a matrices de mayor dimensión. Veamos el resultado cuando agregamos una matriz unidimensional a una matriz bidimensional:"
      ]
    },
    {
      "cell_type": "code",
      "execution_count": 155,
      "metadata": {
        "id": "sWyguM0TqaMq",
        "colab": {
          "base_uri": "https://localhost:8080/"
        },
        "outputId": "27f88512-bb0f-41e4-c7c8-205f52950411"
      },
      "outputs": [
        {
          "output_type": "execute_result",
          "data": {
            "text/plain": [
              "array([[ 0,  1,  2,  3],\n",
              "       [ 4,  5,  6,  7],\n",
              "       [ 8,  9, 10, 11],\n",
              "       [12, 13, 14, 15]])"
            ]
          },
          "metadata": {},
          "execution_count": 155
        }
      ],
      "source": [
        "A = np.arange(16).reshape(4, 4)\n",
        "b = np.arange(4)\n",
        "A"
      ]
    },
    {
      "cell_type": "code",
      "execution_count": 156,
      "metadata": {
        "id": "6s2ja74PqaMr",
        "colab": {
          "base_uri": "https://localhost:8080/"
        },
        "outputId": "8936bcfe-e1a1-41c1-ab7a-a37960c2e609"
      },
      "outputs": [
        {
          "output_type": "execute_result",
          "data": {
            "text/plain": [
              "array([[ 0,  2,  4,  6],\n",
              "       [ 4,  6,  8, 10],\n",
              "       [ 8, 10, 12, 14],\n",
              "       [12, 14, 16, 18]])"
            ]
          },
          "metadata": {},
          "execution_count": 156
        }
      ],
      "source": [
        "A + b"
      ]
    },
    {
      "cell_type": "markdown",
      "metadata": {
        "id": "UZHfVQEAqaMr"
      },
      "source": [
        "Podemos aplicar el  `broadcasting` en dos matrices. Considere el siguiente ejemplo:"
      ]
    },
    {
      "cell_type": "code",
      "execution_count": 166,
      "metadata": {
        "id": "FgFkSWCRqaMr"
      },
      "outputs": [],
      "source": [
        "# Completar\n",
        "#Creamos una matrix:\n",
        "A1 = np.array([[1, 2, 3],\n",
        "              [4, 5, 6]])"
      ]
    },
    {
      "cell_type": "code",
      "execution_count": 167,
      "metadata": {
        "id": "3BsOFYg_qaMr"
      },
      "outputs": [],
      "source": [
        "# Completar\n",
        "#Creamos otra matrix:\n",
        "B2 = np.array([[10],\n",
        "              [20]])"
      ]
    },
    {
      "cell_type": "code",
      "execution_count": 168,
      "metadata": {
        "id": "IF30FjFtqaMr"
      },
      "outputs": [],
      "source": [
        "# Completar\n",
        "C = A1 + B2"
      ]
    },
    {
      "cell_type": "code",
      "execution_count": 169,
      "metadata": {
        "id": "hX8lxLr8qaMs",
        "colab": {
          "base_uri": "https://localhost:8080/"
        },
        "outputId": "d052b618-9ac2-4013-b556-80f6ce13eb9d"
      },
      "outputs": [
        {
          "output_type": "execute_result",
          "data": {
            "text/plain": [
              "array([[11, 12, 13],\n",
              "       [24, 25, 26]])"
            ]
          },
          "metadata": {},
          "execution_count": 169
        }
      ],
      "source": [
        "# Completar\n",
        "C"
      ]
    },
    {
      "cell_type": "markdown",
      "metadata": {
        "id": "44rabvtDqaMs"
      },
      "source": [
        "###  Regla del broadcasting\n",
        "\n",
        "El `broadcasting` en `NumPy` sigue un estricto conjunto de reglas para determinar la interacción entre dos matrices :\n",
        "\n",
        "* Regla 1: Si las dos matrices difieren en su número de dimensiones, la forma de la matriz que tiene menos dimensiones se rellena con unos en el lado principal (izquierdo).\n",
        "\n",
        "* Regla 2: Si la forma de los dos matrices no coincide con ninguna dimensión, la matriz con la forma igual a 1 en esa dimensión se estira para que coincida con la otra dimensión.\n",
        "\n",
        "* Regla 3: Si en cualquier dimensión los tamaños son distintos y ninguno es igual a 1, se genera un error."
      ]
    },
    {
      "cell_type": "markdown",
      "metadata": {
        "id": "cthhoMVUqaMs"
      },
      "source": [
        "### Un útil truco:"
      ]
    },
    {
      "cell_type": "code",
      "execution_count": 157,
      "metadata": {
        "id": "TLkpSl3hqaMs",
        "colab": {
          "base_uri": "https://localhost:8080/"
        },
        "outputId": "9693e1fd-f71b-4693-b571-ce1adc1921d7"
      },
      "outputs": [
        {
          "output_type": "execute_result",
          "data": {
            "text/plain": [
              "(4,)"
            ]
          },
          "metadata": {},
          "execution_count": 157
        }
      ],
      "source": [
        "J = np.arange(0, 40, 10)\n",
        "J.shape"
      ]
    },
    {
      "cell_type": "code",
      "execution_count": 158,
      "metadata": {
        "id": "KhXkyiTpqaMs",
        "colab": {
          "base_uri": "https://localhost:8080/"
        },
        "outputId": "a0109c1f-7df2-426e-8883-fbd632af2920"
      },
      "outputs": [
        {
          "output_type": "execute_result",
          "data": {
            "text/plain": [
              "(4, 1)"
            ]
          },
          "metadata": {},
          "execution_count": 158
        }
      ],
      "source": [
        "J = J[:, np.newaxis]  # agregamos un nuevo eje ->  matriz 2D\n",
        "J.shape"
      ]
    },
    {
      "cell_type": "code",
      "execution_count": 159,
      "metadata": {
        "id": "Zb16ZWGsqaMs",
        "colab": {
          "base_uri": "https://localhost:8080/"
        },
        "outputId": "5a538e62-6b78-41e1-cc90-f803f10e5942"
      },
      "outputs": [
        {
          "output_type": "execute_result",
          "data": {
            "text/plain": [
              "array([[ 0],\n",
              "       [10],\n",
              "       [20],\n",
              "       [30]])"
            ]
          },
          "metadata": {},
          "execution_count": 159
        }
      ],
      "source": [
        "J"
      ]
    },
    {
      "cell_type": "code",
      "execution_count": 160,
      "metadata": {
        "id": "ncQuGxd5qaMs",
        "colab": {
          "base_uri": "https://localhost:8080/"
        },
        "outputId": "1541037f-63f1-42b6-a6c8-98f67409d9d9"
      },
      "outputs": [
        {
          "output_type": "execute_result",
          "data": {
            "text/plain": [
              "array([[ 3],\n",
              "       [13],\n",
              "       [23],\n",
              "       [33]])"
            ]
          },
          "metadata": {},
          "execution_count": 160
        }
      ],
      "source": [
        "J + 3"
      ]
    },
    {
      "cell_type": "markdown",
      "metadata": {
        "id": "1b5uLnfzqaMt"
      },
      "source": [
        "### Comparaciones, máscaras y lógica Booleana\n"
      ]
    },
    {
      "cell_type": "code",
      "execution_count": 170,
      "metadata": {
        "id": "MeYaAuW_qaMt",
        "colab": {
          "base_uri": "https://localhost:8080/"
        },
        "outputId": "0d32781a-f3d3-4335-ea05-92714fac7bc9"
      },
      "outputs": [
        {
          "output_type": "execute_result",
          "data": {
            "text/plain": [
              "array([ True,  True, False, False])"
            ]
          },
          "metadata": {},
          "execution_count": 170
        }
      ],
      "source": [
        "a1 = np.array([1, 2, 3, 4])\n",
        "b1 = np.array([4, 3, 2, 1])\n",
        "a1 < b1"
      ]
    },
    {
      "cell_type": "code",
      "execution_count": 162,
      "metadata": {
        "id": "Aqhi445LqaMt",
        "colab": {
          "base_uri": "https://localhost:8080/"
        },
        "outputId": "a4c4185b-3500-443d-e38a-db7ca2a4f570"
      },
      "outputs": [
        {
          "output_type": "execute_result",
          "data": {
            "text/plain": [
              "False"
            ]
          },
          "metadata": {},
          "execution_count": 162
        }
      ],
      "source": [
        "np.all(a1 < b1)"
      ]
    },
    {
      "cell_type": "code",
      "execution_count": 163,
      "metadata": {
        "id": "Mvvqq-tyqaMt",
        "colab": {
          "base_uri": "https://localhost:8080/"
        },
        "outputId": "736b0290-a220-408a-c0f0-d225aa83b762"
      },
      "outputs": [
        {
          "output_type": "execute_result",
          "data": {
            "text/plain": [
              "True"
            ]
          },
          "metadata": {},
          "execution_count": 163
        }
      ],
      "source": [
        "np.any(a1 < b1)"
      ]
    },
    {
      "cell_type": "code",
      "execution_count": 164,
      "metadata": {
        "id": "_hKNRIasqaMt",
        "colab": {
          "base_uri": "https://localhost:8080/"
        },
        "outputId": "e36bdf00-58ee-4fce-984a-21d0c40ce093"
      },
      "outputs": [
        {
          "output_type": "stream",
          "name": "stdout",
          "text": [
            "Algunos elementos en a1 son menores que los elementos de b1\n"
          ]
        }
      ],
      "source": [
        "if np.all(a1 < b1):\n",
        "    print(\" Todos los elementos en a1 son menores que los elementos en b1 \")\n",
        "elif np.any(a1 < b1):\n",
        "    print(\"Algunos elementos en a1 son menores que los elementos de b1\")\n",
        "else:\n",
        "    print(\"Todos los elementos en b1 son menores que los elementos de a1\")"
      ]
    },
    {
      "cell_type": "markdown",
      "metadata": {
        "id": "2nLXUCapqaMt"
      },
      "source": [
        "Al aparecer en una expresión aritmética junto con un número escalar, u otra matriz `NumPy` con un tipo de datos numéricos, una matriz booleana se convierte en una matriz numérica con valores `0` y `1` en lugar de `False` y `True`, respectivamente."
      ]
    },
    {
      "cell_type": "code",
      "execution_count": 173,
      "metadata": {
        "id": "uHL9SWIVqaMu",
        "colab": {
          "base_uri": "https://localhost:8080/"
        },
        "outputId": "8918745d-802b-40f7-e0a1-452c6f1919a6"
      },
      "outputs": [
        {
          "output_type": "execute_result",
          "data": {
            "text/plain": [
              "array([10, 10, 11, 11])"
            ]
          },
          "metadata": {},
          "execution_count": 173
        }
      ],
      "source": [
        "# Completar\n",
        "(a1 > b1) + 10\n",
        "#Esto resulta en una matriz booleana.\n",
        "#Luego, se realiza una operación aritmética sumando la matriz booleana con el número escalar 10.\n",
        "#La matriz booleana se convierte automáticamente en una matriz numérica con valores 0 y 1,\n",
        "#y luego se realiza la suma elemento a elemento con 10."
      ]
    },
    {
      "cell_type": "code",
      "execution_count": 172,
      "metadata": {
        "id": "Zo0ypRZZqaMu",
        "colab": {
          "base_uri": "https://localhost:8080/"
        },
        "outputId": "70988b4f-3748-43d2-f011-adbc208df3e0"
      },
      "outputs": [
        {
          "output_type": "execute_result",
          "data": {
            "text/plain": [
              "array([5, 6, 8, 9])"
            ]
          },
          "metadata": {},
          "execution_count": 172
        }
      ],
      "source": [
        "# Completar\n",
        "#Operación aritmética con otra matriz numérica:\n",
        "c1 = np.array([5, 6, 7, 8])\n",
        "(a1 > b1) + c1"
      ]
    },
    {
      "cell_type": "code",
      "execution_count": 174,
      "metadata": {
        "id": "xKfdwvatqaMu",
        "colab": {
          "base_uri": "https://localhost:8080/"
        },
        "outputId": "c871535a-1b3c-4f67-ed9b-8bbc3ca20bae"
      },
      "outputs": [
        {
          "output_type": "execute_result",
          "data": {
            "text/plain": [
              "array([4, 3, 3, 4])"
            ]
          },
          "metadata": {},
          "execution_count": 174
        }
      ],
      "source": [
        "# Completar\n",
        "#Operación de asignación condicional:\n",
        "np.where(a1 > b1, a1, b1)"
      ]
    },
    {
      "cell_type": "markdown",
      "metadata": {
        "id": "tB_6ydqXqaMu"
      },
      "source": [
        "Esta es una propiedad útil para la computación condicional, como cuando se definen funciones."
      ]
    },
    {
      "cell_type": "code",
      "execution_count": 177,
      "metadata": {
        "id": "_ql1WHMbqaMu",
        "colab": {
          "base_uri": "https://localhost:8080/"
        },
        "outputId": "3f949dd5-e5fd-4cb8-e704-a96eaf07bb6d"
      },
      "outputs": [
        {
          "output_type": "execute_result",
          "data": {
            "text/plain": [
              "array([0, 0, 0, 0])"
            ]
          },
          "metadata": {},
          "execution_count": 177
        }
      ],
      "source": [
        "def pulso(t, posicion, altura, ancho):\n",
        "    return altura * (t >= posicion) * (t <= (posicion + ancho))\n",
        "# Completar\n",
        "t = np.array([5, 6, 7, 8])\n",
        "pulso(t, 2, 10,2)"
      ]
    },
    {
      "cell_type": "code",
      "source": [
        "t2 = np.array([0, 1, 2, 3, 4, 5])\n",
        "pulso(t2, 2, 10, 2)"
      ],
      "metadata": {
        "colab": {
          "base_uri": "https://localhost:8080/"
        },
        "id": "HudeNwZAjvXe",
        "outputId": "f7d9be0f-f4ab-479d-928e-0e264275338d"
      },
      "execution_count": 181,
      "outputs": [
        {
          "output_type": "execute_result",
          "data": {
            "text/plain": [
              "array([ 0,  0, 10, 10, 10,  0])"
            ]
          },
          "metadata": {},
          "execution_count": 181
        }
      ]
    },
    {
      "cell_type": "markdown",
      "metadata": {
        "id": "VpGU0FGBqaMu"
      },
      "source": [
        "### Matrices booleanas como máscaras\n",
        "\n",
        "Revisar: [masked array](https://docs.scipy.org/doc/numpy/reference/maskedarray.html)."
      ]
    },
    {
      "cell_type": "code",
      "execution_count": 182,
      "metadata": {
        "id": "4PQgtpS4qaMu",
        "colab": {
          "base_uri": "https://localhost:8080/"
        },
        "outputId": "66e877c9-85d5-4b39-bd0e-b5e35d072aa8"
      },
      "outputs": [
        {
          "output_type": "execute_result",
          "data": {
            "text/plain": [
              "array([False, False,  True, False, False,  True])"
            ]
          },
          "metadata": {},
          "execution_count": 182
        }
      ],
      "source": [
        "k = np.array([1, 3, -1, 5, 7, -1])\n",
        "mask = (k < 0)\n",
        "mask"
      ]
    },
    {
      "cell_type": "code",
      "execution_count": 183,
      "metadata": {
        "id": "KJ9jFSKuqaMv",
        "colab": {
          "base_uri": "https://localhost:8080/"
        },
        "outputId": "08ae82c4-e2d4-4c7b-9c9a-f7f60203a64b"
      },
      "outputs": [
        {
          "output_type": "execute_result",
          "data": {
            "text/plain": [
              "array([[5, 0, 3, 3],\n",
              "       [7, 9, 3, 5],\n",
              "       [2, 4, 7, 6]])"
            ]
          },
          "metadata": {},
          "execution_count": 183
        }
      ],
      "source": [
        "# Un ejemplo bidimensional\n",
        "rng = np.random.RandomState(0)\n",
        "z1 = rng.randint(10, size=(3, 4))\n",
        "z1"
      ]
    },
    {
      "cell_type": "code",
      "execution_count": 185,
      "metadata": {
        "id": "NXAwAvs8qaMv",
        "colab": {
          "base_uri": "https://localhost:8080/"
        },
        "outputId": "fd26495b-89ce-49a9-9c99-df61da6c5116"
      },
      "outputs": [
        {
          "output_type": "execute_result",
          "data": {
            "text/plain": [
              "array([[False, False, False, False],\n",
              "       [False, False, False, False],\n",
              "       [False, False, False, False]])"
            ]
          },
          "metadata": {},
          "execution_count": 185
        }
      ],
      "source": [
        "# Completar\n",
        "mask2= (z1<0)\n",
        "mask2"
      ]
    },
    {
      "cell_type": "markdown",
      "metadata": {
        "id": "IvBwaoXEqaMv"
      },
      "source": [
        "Ahora, para seleccionar estos valores de la matriz, podemos simplemente indexar en esta matriz booleana, esto se conoce como una operación de `enmascaramiento`:"
      ]
    },
    {
      "cell_type": "code",
      "execution_count": 186,
      "metadata": {
        "id": "osgH-qNWqaMv",
        "colab": {
          "base_uri": "https://localhost:8080/"
        },
        "outputId": "cdabe51e-01bc-4924-e4a0-c0f4ad45ee3f"
      },
      "outputs": [
        {
          "output_type": "execute_result",
          "data": {
            "text/plain": [
              "array([], dtype=int64)"
            ]
          },
          "metadata": {},
          "execution_count": 186
        }
      ],
      "source": [
        "# Completar\n",
        "z1[mask2]\n",
        "#como en este caso todos los elementos de mask son False, el resultado es una matriz vacía."
      ]
    },
    {
      "cell_type": "markdown",
      "metadata": {
        "id": "J1tyYXNeqaMv"
      },
      "source": [
        "El siguiente ejemplo muestra cómo sumar la matriz de enmascaramiento,  donde `True` representa uno y `False` representa 0."
      ]
    },
    {
      "cell_type": "code",
      "execution_count": 187,
      "metadata": {
        "id": "aTqwfAtAqaMv",
        "colab": {
          "base_uri": "https://localhost:8080/"
        },
        "outputId": "734a17dd-6925-432c-dd01-fcfcf9b92872"
      },
      "outputs": [
        {
          "output_type": "execute_result",
          "data": {
            "text/plain": [
              "0"
            ]
          },
          "metadata": {},
          "execution_count": 187
        }
      ],
      "source": [
        "# Completar\n",
        "np.sum(mask2)"
      ]
    },
    {
      "cell_type": "markdown",
      "metadata": {
        "id": "oqDn9SxmHRKr"
      },
      "source": [
        "### Lectura recomendada: [Numpy Reference](https://docs.scipy.org/doc/numpy/reference/)."
      ]
    }
  ],
  "metadata": {
    "colab": {
      "provenance": [],
      "collapsed_sections": [
        "hHdZuIRlqaMU"
      ]
    },
    "kernelspec": {
      "display_name": "Python 3",
      "language": "python",
      "name": "python3"
    },
    "language_info": {
      "codemirror_mode": {
        "name": "ipython",
        "version": 3
      },
      "file_extension": ".py",
      "mimetype": "text/x-python",
      "name": "python",
      "nbconvert_exporter": "python",
      "pygments_lexer": "ipython3",
      "version": "3.7.10"
    }
  },
  "nbformat": 4,
  "nbformat_minor": 0
}